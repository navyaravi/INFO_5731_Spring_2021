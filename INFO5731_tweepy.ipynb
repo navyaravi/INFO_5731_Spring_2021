{
  "nbformat": 4,
  "nbformat_minor": 0,
  "metadata": {
    "colab": {
      "name": "Untitled12.ipynb",
      "provenance": [],
      "authorship_tag": "ABX9TyOApNyrL0Nj+ljeJstlJp4H",
      "include_colab_link": true
    },
    "kernelspec": {
      "name": "python3",
      "display_name": "Python 3"
    }
  },
  "cells": [
    {
      "cell_type": "markdown",
      "metadata": {
        "id": "view-in-github",
        "colab_type": "text"
      },
      "source": [
        "<a href=\"https://colab.research.google.com/github/navyaravi/INFO_5731_Spring_2021/blob/main/INFO5731_tweepy.ipynb\" target=\"_parent\"><img src=\"https://colab.research.google.com/assets/colab-badge.svg\" alt=\"Open In Colab\"/></a>"
      ]
    },
    {
      "cell_type": "code",
      "metadata": {
        "id": "oVAZ7YBqb9h-"
      },
      "source": [
        "#import files and give access to tokens and keys\r\n",
        "import tweepy,json\r\n",
        "access_token=\"\"\r\n",
        "access_token_secret=\"\"\r\n",
        "consumer_key=\"\"\r\n",
        "consumer_secret=\"\"\r\n",
        "auth= tweepy.OAuthHandler(consumer_key,consumer_secret)\r\n",
        "auth.set_access_token(access_token,access_token_secret)"
      ],
      "execution_count": 1,
      "outputs": []
    },
    {
      "cell_type": "code",
      "metadata": {
        "id": "MkCTUGCdcFg4"
      },
      "source": [
        "tweet_list=[]\r\n",
        "class MyStreamListener(tweepy.StreamListener):\r\n",
        "    def __init__(self,api=None):\r\n",
        "        super(MyStreamListener,self).__init__()\r\n",
        "        self.num_tweets=0\r\n",
        "        self.file=open(\"tweet.txt\",\"w\")\r\n",
        "    def on_status(self,status):\r\n",
        "        tweet=status._json\r\n",
        "        self.file.write(json.dumps(tweet)+ '\\n')\r\n",
        "        tweet_list.append(status)\r\n",
        "        self.num_tweets+=1\r\n",
        "        if self.num_tweets<1000:\r\n",
        "            return True\r\n",
        "        else:\r\n",
        "            return False\r\n",
        "        self.file.close()"
      ],
      "execution_count": 2,
      "outputs": []
    },
    {
      "cell_type": "code",
      "metadata": {
        "id": "1kitef2hcSWl"
      },
      "source": [
        "#create streaming object and authenticate\r\n",
        "l = MyStreamListener()\r\n",
        "stream =tweepy.Stream(auth,l)\r\n",
        "#this line filters twiiter streams to capture data by keywords\r\n",
        "stream.filter(track=['covid','corona','covid19','coronavirus',\r\n",
        "'covidvaccine','covidvaccination'])"
      ],
      "execution_count": 3,
      "outputs": []
    },
    {
      "cell_type": "code",
      "metadata": {
        "colab": {
          "base_uri": "https://localhost:8080/"
        },
        "id": "DYDK-344ceIO",
        "outputId": "022b5640-3c18-4711-8dcb-678992bc2b7e"
      },
      "source": [
        "tweets_data_path='tweet.txt'\r\n",
        "tweets_data=[]\r\n",
        "tweets_file=open(tweets_data_path,\"r\")\r\n",
        "#read in tweets and store on list\r\n",
        "for line in tweets_file:\r\n",
        "    tweet=json.loads(line)\r\n",
        "    tweets_data.append(tweet)\r\n",
        "tweets_file.close()\r\n",
        "print(tweets_data)"
      ],
      "execution_count": 10,
      "outputs": [
        {
          "output_type": "stream",
          "text": [
            "[]\n"
          ],
          "name": "stdout"
        }
      ]
    }
  ]
}