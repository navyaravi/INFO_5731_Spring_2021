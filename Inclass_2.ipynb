{
  "nbformat": 4,
  "nbformat_minor": 0,
  "metadata": {
    "colab": {
      "name": "Untitled1.ipynb",
      "provenance": [],
      "authorship_tag": "ABX9TyP7vm7c/dpp/J81+HlMA+i4",
      "include_colab_link": true
    },
    "kernelspec": {
      "name": "python3",
      "display_name": "Python 3"
    }
  },
  "cells": [
    {
      "cell_type": "markdown",
      "metadata": {
        "id": "view-in-github",
        "colab_type": "text"
      },
      "source": [
        "<a href=\"https://colab.research.google.com/github/navyaravi/INFO_5731_Spring_2021/blob/main/Inclass_2.ipynb\" target=\"_parent\"><img src=\"https://colab.research.google.com/assets/colab-badge.svg\" alt=\"Open In Colab\"/></a>"
      ]
    },
    {
      "cell_type": "markdown",
      "metadata": {
        "id": "A8w02Qv0DjX2"
      },
      "source": [
        "(1) Write a Python program to find the duplicate elements in a given array of integers. Return -1 If there are no such elements. (4 points)"
      ]
    },
    {
      "cell_type": "code",
      "metadata": {
        "colab": {
          "base_uri": "https://localhost:8080/"
        },
        "id": "ZlGq75drACZS",
        "outputId": "af983005-0de5-4d4d-9498-42cbebb72b3d"
      },
      "source": [
        "import array as arr\r\n",
        "\r\n",
        "def Repeat(x):\r\n",
        "    _size = len(x)\r\n",
        "    repeated = []\r\n",
        "    for i in range(_size):\r\n",
        "        k = i + 1\r\n",
        "        for j in range(k, _size):\r\n",
        "            if x[i] == x[j] and x[i] not in repeated:\r\n",
        "                repeated.append(x[i])\r\n",
        "    if repeated == []:\r\n",
        "      print('-1')\r\n",
        "    return repeated\r\n",
        "\r\n",
        "a = arr.array('i', [ 10, 20, 30, 20, 20, 30, 40, 50, 50, -20, 60, 60, -20, -20 ])\r\n",
        "\r\n",
        "#a = arr.array('i',[10,20,30])\r\n",
        "\r\n",
        "print(Repeat(a))\r\n"
      ],
      "execution_count": 29,
      "outputs": [
        {
          "output_type": "stream",
          "text": [
            "[20, 30, 50, -20, 60]\n"
          ],
          "name": "stdout"
        }
      ]
    },
    {
      "cell_type": "markdown",
      "metadata": {
        "id": "jHRc19UFDeea"
      },
      "source": [
        "(2) Write a Python program to select all the Sundays of a specified year. (4 points)"
      ]
    },
    {
      "cell_type": "code",
      "metadata": {
        "colab": {
          "base_uri": "https://localhost:8080/"
        },
        "id": "MvEmYibnDovF",
        "outputId": "d35b058f-0623-49ad-a09a-6cfb0f6140e8"
      },
      "source": [
        "from datetime import date, timedelta\r\n",
        "def all_sundays(year):\r\n",
        "  d = date(year,1,1)\r\n",
        "  d += timedelta(days = 6 - d.weekday())\r\n",
        "  while d.year == year:\r\n",
        "    yield d\r\n",
        "    d += timedelta(days = 7)\r\n",
        "\r\n",
        "for s in all_sundays(2021):\r\n",
        "  print(s)"
      ],
      "execution_count": 18,
      "outputs": [
        {
          "output_type": "stream",
          "text": [
            "2021-01-03\n",
            "2021-01-10\n",
            "2021-01-17\n",
            "2021-01-24\n",
            "2021-01-31\n",
            "2021-02-07\n",
            "2021-02-14\n",
            "2021-02-21\n",
            "2021-02-28\n",
            "2021-03-07\n",
            "2021-03-14\n",
            "2021-03-21\n",
            "2021-03-28\n",
            "2021-04-04\n",
            "2021-04-11\n",
            "2021-04-18\n",
            "2021-04-25\n",
            "2021-05-02\n",
            "2021-05-09\n",
            "2021-05-16\n",
            "2021-05-23\n",
            "2021-05-30\n",
            "2021-06-06\n",
            "2021-06-13\n",
            "2021-06-20\n",
            "2021-06-27\n",
            "2021-07-04\n",
            "2021-07-11\n",
            "2021-07-18\n",
            "2021-07-25\n",
            "2021-08-01\n",
            "2021-08-08\n",
            "2021-08-15\n",
            "2021-08-22\n",
            "2021-08-29\n",
            "2021-09-05\n",
            "2021-09-12\n",
            "2021-09-19\n",
            "2021-09-26\n",
            "2021-10-03\n",
            "2021-10-10\n",
            "2021-10-17\n",
            "2021-10-24\n",
            "2021-10-31\n",
            "2021-11-07\n",
            "2021-11-14\n",
            "2021-11-21\n",
            "2021-11-28\n",
            "2021-12-05\n",
            "2021-12-12\n",
            "2021-12-19\n",
            "2021-12-26\n"
          ],
          "name": "stdout"
        }
      ]
    },
    {
      "cell_type": "markdown",
      "metadata": {
        "id": "mmUsSLfHEObK"
      },
      "source": [
        "(3) Python files reading and writing. Download the “exercise_02_data _collection.zip” to your local and un-zip it.\r\n",
        "\r\n",
        "Write a program to read all the txt files and save the sentences in all the files into one csv file with two columns, the first column is sentence id (txt file name+sentence line number), the second column is the sentence text content. (4 points)\r\n",
        "Remove all the punctuations from the sentences, save the processed sentences into a new column in the same csv file. (4 points)\r\n",
        "Ask the user to enter a word, return all the sentences that include this word, three kinds of information should be returned: sentence id, sentence text content, the count that user input word appear in the sentence. (4 points)"
      ]
    },
    {
      "cell_type": "code",
      "metadata": {
        "colab": {
          "resources": {
            "http://localhost:8080/nbextensions/google.colab/files.js": {
              "data": "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",
              "ok": true,
              "headers": [
                [
                  "content-type",
                  "application/javascript"
                ]
              ],
              "status": 200,
              "status_text": ""
            }
          },
          "base_uri": "https://localhost:8080/",
          "height": 1000
        },
        "id": "puX0-432EWaX",
        "outputId": "bbd1c6e2-e48e-4141-fd6f-dd9d23ba8200"
      },
      "source": [
        "from google.colab import files\r\n",
        "uploaded = files.upload()\r\n"
      ],
      "execution_count": 30,
      "outputs": [
        {
          "output_type": "display_data",
          "data": {
            "text/html": [
              "\n",
              "     <input type=\"file\" id=\"files-553d8614-d2ed-4d49-94cb-d02f8f5acc2d\" name=\"files[]\" multiple disabled\n",
              "        style=\"border:none\" />\n",
              "     <output id=\"result-553d8614-d2ed-4d49-94cb-d02f8f5acc2d\">\n",
              "      Upload widget is only available when the cell has been executed in the\n",
              "      current browser session. Please rerun this cell to enable.\n",
              "      </output>\n",
              "      <script src=\"/nbextensions/google.colab/files.js\"></script> "
            ],
            "text/plain": [
              "<IPython.core.display.HTML object>"
            ]
          },
          "metadata": {
            "tags": []
          }
        },
        {
          "output_type": "stream",
          "text": [
            "Saving ARTHROTEC.1.txt to ARTHROTEC.1.txt\n",
            "Saving ARTHROTEC.2.txt to ARTHROTEC.2.txt\n",
            "Saving ARTHROTEC.3.txt to ARTHROTEC.3.txt\n",
            "Saving ARTHROTEC.4.txt to ARTHROTEC.4.txt\n",
            "Saving ARTHROTEC.5.txt to ARTHROTEC.5.txt\n",
            "Saving ARTHROTEC.6.txt to ARTHROTEC.6.txt\n",
            "Saving ARTHROTEC.7.txt to ARTHROTEC.7.txt\n",
            "Saving ARTHROTEC.8.txt to ARTHROTEC.8.txt\n",
            "Saving ARTHROTEC.9.txt to ARTHROTEC.9.txt\n",
            "Saving ARTHROTEC.10.txt to ARTHROTEC.10.txt\n",
            "Saving ARTHROTEC.11.txt to ARTHROTEC.11.txt\n",
            "Saving ARTHROTEC.12.txt to ARTHROTEC.12.txt\n",
            "Saving ARTHROTEC.13.txt to ARTHROTEC.13.txt\n",
            "Saving ARTHROTEC.14.txt to ARTHROTEC.14.txt\n",
            "Saving ARTHROTEC.15.txt to ARTHROTEC.15.txt\n",
            "Saving ARTHROTEC.16.txt to ARTHROTEC.16.txt\n",
            "Saving ARTHROTEC.17.txt to ARTHROTEC.17.txt\n",
            "Saving ARTHROTEC.18.txt to ARTHROTEC.18.txt\n",
            "Saving ARTHROTEC.19.txt to ARTHROTEC.19.txt\n",
            "Saving ARTHROTEC.20.txt to ARTHROTEC.20.txt\n",
            "Saving ARTHROTEC.21.txt to ARTHROTEC.21.txt\n",
            "Saving ARTHROTEC.22.txt to ARTHROTEC.22.txt\n",
            "Saving ARTHROTEC.23.txt to ARTHROTEC.23.txt\n",
            "Saving ARTHROTEC.24.txt to ARTHROTEC.24.txt\n",
            "Saving ARTHROTEC.25.txt to ARTHROTEC.25.txt\n",
            "Saving ARTHROTEC.26.txt to ARTHROTEC.26.txt\n",
            "Saving ARTHROTEC.27.txt to ARTHROTEC.27.txt\n",
            "Saving ARTHROTEC.28.txt to ARTHROTEC.28.txt\n",
            "Saving ARTHROTEC.29.txt to ARTHROTEC.29.txt\n",
            "Saving ARTHROTEC.30.txt to ARTHROTEC.30.txt\n",
            "Saving ARTHROTEC.31.txt to ARTHROTEC.31.txt\n",
            "Saving ARTHROTEC.32.txt to ARTHROTEC.32.txt\n",
            "Saving ARTHROTEC.33.txt to ARTHROTEC.33.txt\n",
            "Saving ARTHROTEC.34.txt to ARTHROTEC.34.txt\n",
            "Saving ARTHROTEC.35.txt to ARTHROTEC.35.txt\n",
            "Saving ARTHROTEC.36.txt to ARTHROTEC.36.txt\n",
            "Saving ARTHROTEC.37.txt to ARTHROTEC.37.txt\n",
            "Saving ARTHROTEC.38.txt to ARTHROTEC.38.txt\n",
            "Saving ARTHROTEC.39.txt to ARTHROTEC.39.txt\n",
            "Saving ARTHROTEC.40.txt to ARTHROTEC.40.txt\n",
            "Saving ARTHROTEC.41.txt to ARTHROTEC.41.txt\n",
            "Saving ARTHROTEC.42.txt to ARTHROTEC.42.txt\n",
            "Saving ARTHROTEC.43.txt to ARTHROTEC.43.txt\n",
            "Saving ARTHROTEC.44.txt to ARTHROTEC.44.txt\n",
            "Saving ARTHROTEC.45.txt to ARTHROTEC.45.txt\n",
            "Saving ARTHROTEC.46.txt to ARTHROTEC.46.txt\n",
            "Saving ARTHROTEC.47.txt to ARTHROTEC.47.txt\n",
            "Saving ARTHROTEC.48.txt to ARTHROTEC.48.txt\n",
            "Saving ARTHROTEC.49.txt to ARTHROTEC.49.txt\n",
            "Saving ARTHROTEC.50.txt to ARTHROTEC.50.txt\n",
            "Saving ARTHROTEC.51.txt to ARTHROTEC.51.txt\n",
            "Saving ARTHROTEC.52.txt to ARTHROTEC.52.txt\n",
            "Saving ARTHROTEC.53.txt to ARTHROTEC.53.txt\n",
            "Saving ARTHROTEC.54.txt to ARTHROTEC.54.txt\n",
            "Saving ARTHROTEC.55.txt to ARTHROTEC.55.txt\n",
            "Saving ARTHROTEC.56.txt to ARTHROTEC.56.txt\n",
            "Saving ARTHROTEC.57.txt to ARTHROTEC.57.txt\n",
            "Saving ARTHROTEC.58.txt to ARTHROTEC.58.txt\n",
            "Saving ARTHROTEC.59.txt to ARTHROTEC.59.txt\n",
            "Saving ARTHROTEC.60.txt to ARTHROTEC.60.txt\n",
            "Saving ARTHROTEC.61.txt to ARTHROTEC.61.txt\n",
            "Saving ARTHROTEC.62.txt to ARTHROTEC.62.txt\n",
            "Saving ARTHROTEC.63.txt to ARTHROTEC.63.txt\n",
            "Saving ARTHROTEC.64.txt to ARTHROTEC.64.txt\n",
            "Saving ARTHROTEC.65.txt to ARTHROTEC.65.txt\n",
            "Saving ARTHROTEC.66.txt to ARTHROTEC.66.txt\n",
            "Saving ARTHROTEC.67.txt to ARTHROTEC.67.txt\n",
            "Saving ARTHROTEC.68.txt to ARTHROTEC.68.txt\n",
            "Saving ARTHROTEC.69.txt to ARTHROTEC.69.txt\n",
            "Saving ARTHROTEC.70.txt to ARTHROTEC.70.txt\n",
            "Saving ARTHROTEC.71.txt to ARTHROTEC.71.txt\n",
            "Saving ARTHROTEC.72.txt to ARTHROTEC.72.txt\n",
            "Saving ARTHROTEC.73.txt to ARTHROTEC.73.txt\n",
            "Saving ARTHROTEC.74.txt to ARTHROTEC.74.txt\n",
            "Saving ARTHROTEC.75.txt to ARTHROTEC.75.txt\n",
            "Saving ARTHROTEC.76.txt to ARTHROTEC.76.txt\n",
            "Saving ARTHROTEC.77.txt to ARTHROTEC.77.txt\n",
            "Saving ARTHROTEC.78.txt to ARTHROTEC.78.txt\n",
            "Saving ARTHROTEC.79.txt to ARTHROTEC.79.txt\n",
            "Saving ARTHROTEC.80.txt to ARTHROTEC.80.txt\n",
            "Saving ARTHROTEC.81.txt to ARTHROTEC.81.txt\n",
            "Saving ARTHROTEC.82.txt to ARTHROTEC.82.txt\n",
            "Saving ARTHROTEC.83.txt to ARTHROTEC.83.txt\n",
            "Saving ARTHROTEC.84.txt to ARTHROTEC.84.txt\n",
            "Saving ARTHROTEC.85.txt to ARTHROTEC.85.txt\n",
            "Saving ARTHROTEC.86.txt to ARTHROTEC.86.txt\n",
            "Saving ARTHROTEC.87.txt to ARTHROTEC.87.txt\n",
            "Saving ARTHROTEC.88.txt to ARTHROTEC.88.txt\n",
            "Saving ARTHROTEC.89.txt to ARTHROTEC.89.txt\n",
            "Saving ARTHROTEC.90.txt to ARTHROTEC.90.txt\n",
            "Saving ARTHROTEC.91.txt to ARTHROTEC.91.txt\n",
            "Saving ARTHROTEC.92.txt to ARTHROTEC.92.txt\n",
            "Saving ARTHROTEC.93.txt to ARTHROTEC.93.txt\n",
            "Saving ARTHROTEC.94.txt to ARTHROTEC.94.txt\n",
            "Saving ARTHROTEC.95.txt to ARTHROTEC.95.txt\n",
            "Saving ARTHROTEC.96.txt to ARTHROTEC.96.txt\n",
            "Saving ARTHROTEC.97.txt to ARTHROTEC.97.txt\n",
            "Saving ARTHROTEC.98.txt to ARTHROTEC.98.txt\n",
            "Saving ARTHROTEC.99.txt to ARTHROTEC.99.txt\n",
            "Saving ARTHROTEC.100.txt to ARTHROTEC.100.txt\n"
          ],
          "name": "stdout"
        }
      ]
    },
    {
      "cell_type": "code",
      "metadata": {
        "id": "2hZu-zsdRZQc"
      },
      "source": [
        "import pandas as pd\r\n",
        "sentence_id = []\r\n",
        "sentence = []\r\n",
        "for files in uploaded:\r\n",
        "  with open(files,'r') as file:\r\n",
        "    content = file.read()\r\n",
        "    split_content = content.splitlines()\r\n",
        "    for line_number in range(len(split_content)):\r\n",
        "      sentence_id.append(files + '_' +str(line_number))\r\n",
        "      sentence.append(split_content[line_number])\r\n",
        "df = pd.DataFrame(list(zip(sentence_id, sentence)),columns = ['Sentence ID','Sentence'])\r\n",
        "df.to_csv('output_file.csv',index = False)\r\n"
      ],
      "execution_count": 37,
      "outputs": []
    },
    {
      "cell_type": "code",
      "metadata": {
        "colab": {
          "base_uri": "https://localhost:8080/",
          "height": 419
        },
        "id": "gFtmBfeYSkxd",
        "outputId": "f166462e-4006-458e-ab4b-43951fc77e63"
      },
      "source": [
        "import string\r\n",
        "df['After punctuation Removal'] = df['Sentence'].apply(lambda x:''.join([i for i in x\r\n",
        "                                                if i not in string.punctuation]))\r\n",
        "df.to_csv('output_file.csv', index = False)\r\n",
        "df"
      ],
      "execution_count": 38,
      "outputs": [
        {
          "output_type": "execute_result",
          "data": {
            "text/html": [
              "<div>\n",
              "<style scoped>\n",
              "    .dataframe tbody tr th:only-of-type {\n",
              "        vertical-align: middle;\n",
              "    }\n",
              "\n",
              "    .dataframe tbody tr th {\n",
              "        vertical-align: top;\n",
              "    }\n",
              "\n",
              "    .dataframe thead th {\n",
              "        text-align: right;\n",
              "    }\n",
              "</style>\n",
              "<table border=\"1\" class=\"dataframe\">\n",
              "  <thead>\n",
              "    <tr style=\"text-align: right;\">\n",
              "      <th></th>\n",
              "      <th>Sentence ID</th>\n",
              "      <th>Sentence</th>\n",
              "      <th>After punctuation Removal</th>\n",
              "    </tr>\n",
              "  </thead>\n",
              "  <tbody>\n",
              "    <tr>\n",
              "      <th>0</th>\n",
              "      <td>ARTHROTEC.1.txt_0</td>\n",
              "      <td>I feel a bit drowsy &amp; have a little blurred vi...</td>\n",
              "      <td>I feel a bit drowsy  have a little blurred vis...</td>\n",
              "    </tr>\n",
              "    <tr>\n",
              "      <th>1</th>\n",
              "      <td>ARTHROTEC.1.txt_1</td>\n",
              "      <td>I've been on Arthrotec 50 for over 10 years on...</td>\n",
              "      <td>Ive been on Arthrotec 50 for over 10 years on ...</td>\n",
              "    </tr>\n",
              "    <tr>\n",
              "      <th>2</th>\n",
              "      <td>ARTHROTEC.1.txt_2</td>\n",
              "      <td>Due to my arthritis getting progressively wors...</td>\n",
              "      <td>Due to my arthritis getting progressively wors...</td>\n",
              "    </tr>\n",
              "    <tr>\n",
              "      <th>3</th>\n",
              "      <td>ARTHROTEC.1.txt_3</td>\n",
              "      <td>every day for the next month to see how I get ...</td>\n",
              "      <td>every day for the next month to see how I get ...</td>\n",
              "    </tr>\n",
              "    <tr>\n",
              "      <th>4</th>\n",
              "      <td>ARTHROTEC.1.txt_4</td>\n",
              "      <td>So far its been very good, pains almost gone, ...</td>\n",
              "      <td>So far its been very good pains almost gone bu...</td>\n",
              "    </tr>\n",
              "    <tr>\n",
              "      <th>...</th>\n",
              "      <td>...</td>\n",
              "      <td>...</td>\n",
              "      <td>...</td>\n",
              "    </tr>\n",
              "    <tr>\n",
              "      <th>530</th>\n",
              "      <td>ARTHROTEC.100.txt_3</td>\n",
              "      <td>canker sores in my mouth.</td>\n",
              "      <td>canker sores in my mouth</td>\n",
              "    </tr>\n",
              "    <tr>\n",
              "      <th>531</th>\n",
              "      <td>ARTHROTEC.100.txt_4</td>\n",
              "      <td>headache.</td>\n",
              "      <td>headache</td>\n",
              "    </tr>\n",
              "    <tr>\n",
              "      <th>532</th>\n",
              "      <td>ARTHROTEC.100.txt_5</td>\n",
              "      <td>been off for 1 week still have bleeding.</td>\n",
              "      <td>been off for 1 week still have bleeding</td>\n",
              "    </tr>\n",
              "    <tr>\n",
              "      <th>533</th>\n",
              "      <td>ARTHROTEC.100.txt_6</td>\n",
              "      <td>helped my pain alot .</td>\n",
              "      <td>helped my pain alot</td>\n",
              "    </tr>\n",
              "    <tr>\n",
              "      <th>534</th>\n",
              "      <td>ARTHROTEC.100.txt_7</td>\n",
              "      <td>too scared to take this drug again.</td>\n",
              "      <td>too scared to take this drug again</td>\n",
              "    </tr>\n",
              "  </tbody>\n",
              "</table>\n",
              "<p>535 rows × 3 columns</p>\n",
              "</div>"
            ],
            "text/plain": [
              "             Sentence ID  ...                          After punctuation Removal\n",
              "0      ARTHROTEC.1.txt_0  ...  I feel a bit drowsy  have a little blurred vis...\n",
              "1      ARTHROTEC.1.txt_1  ...  Ive been on Arthrotec 50 for over 10 years on ...\n",
              "2      ARTHROTEC.1.txt_2  ...  Due to my arthritis getting progressively wors...\n",
              "3      ARTHROTEC.1.txt_3  ...  every day for the next month to see how I get ...\n",
              "4      ARTHROTEC.1.txt_4  ...  So far its been very good pains almost gone bu...\n",
              "..                   ...  ...                                                ...\n",
              "530  ARTHROTEC.100.txt_3  ...                           canker sores in my mouth\n",
              "531  ARTHROTEC.100.txt_4  ...                                           headache\n",
              "532  ARTHROTEC.100.txt_5  ...            been off for 1 week still have bleeding\n",
              "533  ARTHROTEC.100.txt_6  ...                               helped my pain alot \n",
              "534  ARTHROTEC.100.txt_7  ...                 too scared to take this drug again\n",
              "\n",
              "[535 rows x 3 columns]"
            ]
          },
          "metadata": {
            "tags": []
          },
          "execution_count": 38
        }
      ]
    },
    {
      "cell_type": "code",
      "metadata": {
        "colab": {
          "base_uri": "https://localhost:8080/",
          "height": 1000
        },
        "id": "7suieDFfRfLt",
        "outputId": "9460afe6-b915-4503-98a0-e1784c380328"
      },
      "source": [
        "word_2_search = input(\"please enter word to search\")\r\n",
        "result_df = df[df['Sentence'].str.contains(word_2_search,na=False)]\r\n",
        "final_df = result_df[['Sentence ID', 'Sentence']]\r\n",
        "final_df['Count of Occurwnce'] = df['Sentence'].apply(lambda x:x.count(word_2_search))\r\n",
        "final_df"
      ],
      "execution_count": 41,
      "outputs": [
        {
          "output_type": "stream",
          "text": [
            "please enter word to searchtime\n"
          ],
          "name": "stdout"
        },
        {
          "output_type": "execute_result",
          "data": {
            "text/html": [
              "<div>\n",
              "<style scoped>\n",
              "    .dataframe tbody tr th:only-of-type {\n",
              "        vertical-align: middle;\n",
              "    }\n",
              "\n",
              "    .dataframe tbody tr th {\n",
              "        vertical-align: top;\n",
              "    }\n",
              "\n",
              "    .dataframe thead th {\n",
              "        text-align: right;\n",
              "    }\n",
              "</style>\n",
              "<table border=\"1\" class=\"dataframe\">\n",
              "  <thead>\n",
              "    <tr style=\"text-align: right;\">\n",
              "      <th></th>\n",
              "      <th>Sentence ID</th>\n",
              "      <th>Sentence</th>\n",
              "      <th>Count of Occurwnce</th>\n",
              "    </tr>\n",
              "  </thead>\n",
              "  <tbody>\n",
              "    <tr>\n",
              "      <th>23</th>\n",
              "      <td>ARTHROTEC.5.txt_2</td>\n",
              "      <td>Instead of taking the pill 2X daily, as prescr...</td>\n",
              "      <td>2</td>\n",
              "    </tr>\n",
              "    <tr>\n",
              "      <th>25</th>\n",
              "      <td>ARTHROTEC.5.txt_4</td>\n",
              "      <td>At the time this was prescribed the doctor was...</td>\n",
              "      <td>1</td>\n",
              "    </tr>\n",
              "    <tr>\n",
              "      <th>27</th>\n",
              "      <td>ARTHROTEC.6.txt_0</td>\n",
              "      <td>It began with stomach pain,then slight nausea,...</td>\n",
              "      <td>1</td>\n",
              "    </tr>\n",
              "    <tr>\n",
              "      <th>30</th>\n",
              "      <td>ARTHROTEC.6.txt_3</td>\n",
              "      <td>The only good thing I can say about Arthrotec ...</td>\n",
              "      <td>1</td>\n",
              "    </tr>\n",
              "    <tr>\n",
              "      <th>55</th>\n",
              "      <td>ARTHROTEC.12.txt_1</td>\n",
              "      <td>I am taking it only 1 time per day because of ...</td>\n",
              "      <td>1</td>\n",
              "    </tr>\n",
              "    <tr>\n",
              "      <th>67</th>\n",
              "      <td>ARTHROTEC.15.txt_1</td>\n",
              "      <td>Many unscheduled washroom stops over the time ...</td>\n",
              "      <td>1</td>\n",
              "    </tr>\n",
              "    <tr>\n",
              "      <th>83</th>\n",
              "      <td>ARTHROTEC.16.txt_8</td>\n",
              "      <td>Next time I'll try my luck with Paracetamol.</td>\n",
              "      <td>1</td>\n",
              "    </tr>\n",
              "    <tr>\n",
              "      <th>189</th>\n",
              "      <td>ARTHROTEC.32.txt_0</td>\n",
              "      <td>the first pill i took it caused severe abdomin...</td>\n",
              "      <td>1</td>\n",
              "    </tr>\n",
              "    <tr>\n",
              "      <th>194</th>\n",
              "      <td>ARTHROTEC.34.txt_0</td>\n",
              "      <td>Bleeding mini periods, lightheaded some time, ...</td>\n",
              "      <td>1</td>\n",
              "    </tr>\n",
              "    <tr>\n",
              "      <th>196</th>\n",
              "      <td>ARTHROTEC.35.txt_1</td>\n",
              "      <td>My menstrual cycle is completely out of whack,...</td>\n",
              "      <td>1</td>\n",
              "    </tr>\n",
              "    <tr>\n",
              "      <th>225</th>\n",
              "      <td>ARTHROTEC.40.txt_4</td>\n",
              "      <td>A friend of mine developed an ulcer after only...</td>\n",
              "      <td>1</td>\n",
              "    </tr>\n",
              "    <tr>\n",
              "      <th>236</th>\n",
              "      <td>ARTHROTEC.41.txt_5</td>\n",
              "      <td>Every time I stand up I have to hold onto some...</td>\n",
              "      <td>1</td>\n",
              "    </tr>\n",
              "    <tr>\n",
              "      <th>245</th>\n",
              "      <td>ARTHROTEC.42.txt_6</td>\n",
              "      <td>It continued each time I took it.</td>\n",
              "      <td>1</td>\n",
              "    </tr>\n",
              "    <tr>\n",
              "      <th>276</th>\n",
              "      <td>ARTHROTEC.48.txt_4</td>\n",
              "      <td>i am in need of a knee replacement, but in mea...</td>\n",
              "      <td>1</td>\n",
              "    </tr>\n",
              "    <tr>\n",
              "      <th>291</th>\n",
              "      <td>ARTHROTEC.50.txt_9</td>\n",
              "      <td>I danced at a wedding this weekend for the fir...</td>\n",
              "      <td>1</td>\n",
              "    </tr>\n",
              "    <tr>\n",
              "      <th>301</th>\n",
              "      <td>ARTHROTEC.55.txt_0</td>\n",
              "      <td>I have nothing yet just took it my first time,...</td>\n",
              "      <td>1</td>\n",
              "    </tr>\n",
              "    <tr>\n",
              "      <th>318</th>\n",
              "      <td>ARTHROTEC.59.txt_2</td>\n",
              "      <td>I took it 3 times: the first for 3 days, then ...</td>\n",
              "      <td>1</td>\n",
              "    </tr>\n",
              "    <tr>\n",
              "      <th>319</th>\n",
              "      <td>ARTHROTEC.59.txt_3</td>\n",
              "      <td>My doctor told me the symptoms had to go away ...</td>\n",
              "      <td>1</td>\n",
              "    </tr>\n",
              "    <tr>\n",
              "      <th>324</th>\n",
              "      <td>ARTHROTEC.59.txt_8</td>\n",
              "      <td>More problems and this time I had the ideo to ...</td>\n",
              "      <td>1</td>\n",
              "    </tr>\n",
              "    <tr>\n",
              "      <th>340</th>\n",
              "      <td>ARTHROTEC.62.txt_0</td>\n",
              "      <td>none with light stomich ake sometimes.</td>\n",
              "      <td>1</td>\n",
              "    </tr>\n",
              "    <tr>\n",
              "      <th>341</th>\n",
              "      <td>ARTHROTEC.62.txt_1</td>\n",
              "      <td>a little shortness of breath at times.</td>\n",
              "      <td>1</td>\n",
              "    </tr>\n",
              "    <tr>\n",
              "      <th>343</th>\n",
              "      <td>ARTHROTEC.62.txt_3</td>\n",
              "      <td>i had a back operation 20 years ago and my tim...</td>\n",
              "      <td>1</td>\n",
              "    </tr>\n",
              "    <tr>\n",
              "      <th>356</th>\n",
              "      <td>ARTHROTEC.63.txt_1</td>\n",
              "      <td>I took it 3 times: the first for 3 days, then ...</td>\n",
              "      <td>1</td>\n",
              "    </tr>\n",
              "    <tr>\n",
              "      <th>357</th>\n",
              "      <td>ARTHROTEC.63.txt_2</td>\n",
              "      <td>My doctor told me the symptoms had to go away ...</td>\n",
              "      <td>1</td>\n",
              "    </tr>\n",
              "    <tr>\n",
              "      <th>362</th>\n",
              "      <td>ARTHROTEC.63.txt_7</td>\n",
              "      <td>More problems and this time I had the ideo to ...</td>\n",
              "      <td>1</td>\n",
              "    </tr>\n",
              "    <tr>\n",
              "      <th>366</th>\n",
              "      <td>ARTHROTEC.64.txt_3</td>\n",
              "      <td>however, i do experience stomach pain from tim...</td>\n",
              "      <td>2</td>\n",
              "    </tr>\n",
              "    <tr>\n",
              "      <th>383</th>\n",
              "      <td>ARTHROTEC.68.txt_4</td>\n",
              "      <td>Aside from the stomach pain, it worked miracle...</td>\n",
              "      <td>1</td>\n",
              "    </tr>\n",
              "    <tr>\n",
              "      <th>409</th>\n",
              "      <td>ARTHROTEC.74.txt_1</td>\n",
              "      <td>I take ARTHROTEC 50 every day, sometimes BID a...</td>\n",
              "      <td>1</td>\n",
              "    </tr>\n",
              "    <tr>\n",
              "      <th>412</th>\n",
              "      <td>ARTHROTEC.75.txt_0</td>\n",
              "      <td>Vaginal bleeding when it was not time for my p...</td>\n",
              "      <td>1</td>\n",
              "    </tr>\n",
              "    <tr>\n",
              "      <th>419</th>\n",
              "      <td>ARTHROTEC.76.txt_3</td>\n",
              "      <td>Taking all at same time now,pain is too great!</td>\n",
              "      <td>1</td>\n",
              "    </tr>\n",
              "    <tr>\n",
              "      <th>493</th>\n",
              "      <td>ARTHROTEC.93.txt_2</td>\n",
              "      <td>Tried many others, this seemed to work best fo...</td>\n",
              "      <td>1</td>\n",
              "    </tr>\n",
              "    <tr>\n",
              "      <th>498</th>\n",
              "      <td>ARTHROTEC.94.txt_0</td>\n",
              "      <td>Experienced excruciating, unusual abdominal pa...</td>\n",
              "      <td>1</td>\n",
              "    </tr>\n",
              "    <tr>\n",
              "      <th>506</th>\n",
              "      <td>ARTHROTEC.96.txt_0</td>\n",
              "      <td>For the first week I took one pill at bedtime,...</td>\n",
              "      <td>1</td>\n",
              "    </tr>\n",
              "    <tr>\n",
              "      <th>515</th>\n",
              "      <td>ARTHROTEC.97.txt_0</td>\n",
              "      <td>The symptoms got progressively worse with time.</td>\n",
              "      <td>1</td>\n",
              "    </tr>\n",
              "  </tbody>\n",
              "</table>\n",
              "</div>"
            ],
            "text/plain": [
              "            Sentence ID  ... Count of Occurwnce\n",
              "23    ARTHROTEC.5.txt_2  ...                  2\n",
              "25    ARTHROTEC.5.txt_4  ...                  1\n",
              "27    ARTHROTEC.6.txt_0  ...                  1\n",
              "30    ARTHROTEC.6.txt_3  ...                  1\n",
              "55   ARTHROTEC.12.txt_1  ...                  1\n",
              "67   ARTHROTEC.15.txt_1  ...                  1\n",
              "83   ARTHROTEC.16.txt_8  ...                  1\n",
              "189  ARTHROTEC.32.txt_0  ...                  1\n",
              "194  ARTHROTEC.34.txt_0  ...                  1\n",
              "196  ARTHROTEC.35.txt_1  ...                  1\n",
              "225  ARTHROTEC.40.txt_4  ...                  1\n",
              "236  ARTHROTEC.41.txt_5  ...                  1\n",
              "245  ARTHROTEC.42.txt_6  ...                  1\n",
              "276  ARTHROTEC.48.txt_4  ...                  1\n",
              "291  ARTHROTEC.50.txt_9  ...                  1\n",
              "301  ARTHROTEC.55.txt_0  ...                  1\n",
              "318  ARTHROTEC.59.txt_2  ...                  1\n",
              "319  ARTHROTEC.59.txt_3  ...                  1\n",
              "324  ARTHROTEC.59.txt_8  ...                  1\n",
              "340  ARTHROTEC.62.txt_0  ...                  1\n",
              "341  ARTHROTEC.62.txt_1  ...                  1\n",
              "343  ARTHROTEC.62.txt_3  ...                  1\n",
              "356  ARTHROTEC.63.txt_1  ...                  1\n",
              "357  ARTHROTEC.63.txt_2  ...                  1\n",
              "362  ARTHROTEC.63.txt_7  ...                  1\n",
              "366  ARTHROTEC.64.txt_3  ...                  2\n",
              "383  ARTHROTEC.68.txt_4  ...                  1\n",
              "409  ARTHROTEC.74.txt_1  ...                  1\n",
              "412  ARTHROTEC.75.txt_0  ...                  1\n",
              "419  ARTHROTEC.76.txt_3  ...                  1\n",
              "493  ARTHROTEC.93.txt_2  ...                  1\n",
              "498  ARTHROTEC.94.txt_0  ...                  1\n",
              "506  ARTHROTEC.96.txt_0  ...                  1\n",
              "515  ARTHROTEC.97.txt_0  ...                  1\n",
              "\n",
              "[34 rows x 3 columns]"
            ]
          },
          "metadata": {
            "tags": []
          },
          "execution_count": 41
        }
      ]
    },
    {
      "cell_type": "markdown",
      "metadata": {
        "id": "MkZ-IIZ5WLDD"
      },
      "source": [
        "(4) Install packages nltk, numpy, scipy, pandas, and sklearn on Google Colab. Write a program to test whether they are installed successfully. (3 points for extra)"
      ]
    },
    {
      "cell_type": "code",
      "metadata": {
        "colab": {
          "base_uri": "https://localhost:8080/"
        },
        "id": "gE6Cpi3PWPnr",
        "outputId": "78c7183c-4d47-4886-beaf-c2cebd0c3077"
      },
      "source": [
        "import numpy as np\r\n",
        "a= np.array([[1,2,3],[2,3,4]])\r\n",
        "print(a)"
      ],
      "execution_count": 42,
      "outputs": [
        {
          "output_type": "stream",
          "text": [
            "[[1 2 3]\n",
            " [2 3 4]]\n"
          ],
          "name": "stdout"
        }
      ]
    },
    {
      "cell_type": "code",
      "metadata": {
        "colab": {
          "base_uri": "https://localhost:8080/"
        },
        "id": "gS8jiQnLWl1n",
        "outputId": "0dafdc5b-d906-4fa4-b84f-6534b252813c"
      },
      "source": [
        "import pandas as pd\r\n",
        "data = [1,2,3,4,5]\r\n",
        "df = pd.DataFrame(data)\r\n",
        "print(df)"
      ],
      "execution_count": 43,
      "outputs": [
        {
          "output_type": "stream",
          "text": [
            "   0\n",
            "0  1\n",
            "1  2\n",
            "2  3\n",
            "3  4\n",
            "4  5\n"
          ],
          "name": "stdout"
        }
      ]
    },
    {
      "cell_type": "code",
      "metadata": {
        "colab": {
          "base_uri": "https://localhost:8080/"
        },
        "id": "mA41iPx9flcT",
        "outputId": "25be6420-a1ca-40a1-ba99-a5a93499a7a2"
      },
      "source": [
        "import scipy\r\n",
        "from scipy.constants import pi\r\n",
        "print(\"sciPy - pi = %.16f\"%scipy.constants.pi)"
      ],
      "execution_count": 44,
      "outputs": [
        {
          "output_type": "stream",
          "text": [
            "sciPy - pi = 3.1415926535897931\n"
          ],
          "name": "stdout"
        }
      ]
    },
    {
      "cell_type": "code",
      "metadata": {
        "colab": {
          "base_uri": "https://localhost:8080/"
        },
        "id": "QCQkzEH7f92Y",
        "outputId": "c3ba3fe8-6db7-43e2-c08c-6ffc9afb558f"
      },
      "source": [
        "import nltk\r\n",
        " \r\n",
        "nltk.download()\r\n"
      ],
      "execution_count": 45,
      "outputs": [
        {
          "output_type": "stream",
          "text": [
            "NLTK Downloader\n",
            "---------------------------------------------------------------------------\n",
            "    d) Download   l) List    u) Update   c) Config   h) Help   q) Quit\n",
            "---------------------------------------------------------------------------\n",
            "Downloader> d\n",
            "\n",
            "Download which package (l=list; x=cancel)?\n",
            "  Identifier> l\n",
            "Packages:\n",
            "  [ ] abc................. Australian Broadcasting Commission 2006\n",
            "  [ ] alpino.............. Alpino Dutch Treebank\n",
            "  [ ] averaged_perceptron_tagger Averaged Perceptron Tagger\n",
            "  [ ] averaged_perceptron_tagger_ru Averaged Perceptron Tagger (Russian)\n",
            "  [ ] basque_grammars..... Grammars for Basque\n",
            "  [ ] biocreative_ppi..... BioCreAtIvE (Critical Assessment of Information\n",
            "                           Extraction Systems in Biology)\n",
            "  [ ] bllip_wsj_no_aux.... BLLIP Parser: WSJ Model\n",
            "  [ ] book_grammars....... Grammars from NLTK Book\n",
            "  [ ] brown............... Brown Corpus\n",
            "  [ ] brown_tei........... Brown Corpus (TEI XML Version)\n",
            "  [ ] cess_cat............ CESS-CAT Treebank\n",
            "  [ ] cess_esp............ CESS-ESP Treebank\n",
            "  [ ] chat80.............. Chat-80 Data Files\n",
            "  [ ] city_database....... City Database\n",
            "  [ ] cmudict............. The Carnegie Mellon Pronouncing Dictionary (0.6)\n",
            "  [ ] comparative_sentences Comparative Sentence Dataset\n",
            "  [ ] comtrans............ ComTrans Corpus Sample\n",
            "  [ ] conll2000........... CONLL 2000 Chunking Corpus\n",
            "  [ ] conll2002........... CONLL 2002 Named Entity Recognition Corpus\n",
            "Hit Enter to continue: \n",
            "  [ ] conll2007........... Dependency Treebanks from CoNLL 2007 (Catalan\n",
            "                           and Basque Subset)\n",
            "  [ ] crubadan............ Crubadan Corpus\n",
            "  [ ] dependency_treebank. Dependency Parsed Treebank\n",
            "  [ ] dolch............... Dolch Word List\n",
            "  [ ] europarl_raw........ Sample European Parliament Proceedings Parallel\n",
            "                           Corpus\n",
            "  [ ] floresta............ Portuguese Treebank\n",
            "  [ ] framenet_v15........ FrameNet 1.5\n",
            "  [ ] framenet_v17........ FrameNet 1.7\n",
            "  [ ] gazetteers.......... Gazeteer Lists\n",
            "  [ ] genesis............. Genesis Corpus\n",
            "  [ ] gutenberg........... Project Gutenberg Selections\n",
            "  [ ] ieer................ NIST IE-ER DATA SAMPLE\n",
            "  [ ] inaugural........... C-Span Inaugural Address Corpus\n",
            "  [ ] indian.............. Indian Language POS-Tagged Corpus\n",
            "  [ ] jeita............... JEITA Public Morphologically Tagged Corpus (in\n",
            "                           ChaSen format)\n",
            "  [ ] kimmo............... PC-KIMMO Data Files\n",
            "  [ ] knbc................ KNB Corpus (Annotated blog corpus)\n",
            "  [ ] large_grammars...... Large context-free and feature-based grammars\n",
            "                           for parser comparison\n",
            "Hit Enter to continue: q\n",
            "\n",
            "Download which package (l=list; x=cancel)?\n",
            "  Identifier> x\n",
            "\n",
            "---------------------------------------------------------------------------\n",
            "    d) Download   l) List    u) Update   c) Config   h) Help   q) Quit\n",
            "---------------------------------------------------------------------------\n",
            "Downloader> q\n"
          ],
          "name": "stdout"
        },
        {
          "output_type": "execute_result",
          "data": {
            "text/plain": [
              "True"
            ]
          },
          "metadata": {
            "tags": []
          },
          "execution_count": 45
        }
      ]
    },
    {
      "cell_type": "code",
      "metadata": {
        "colab": {
          "base_uri": "https://localhost:8080/"
        },
        "id": "_NdDKgImgZO6",
        "outputId": "15701205-b3a5-4103-f8ea-4c212df5292f"
      },
      "source": [
        "import urllib.request\r\n",
        " \r\n",
        "response = urllib.request.urlopen('http://php.net/')\r\n",
        " \r\n",
        "html = response.read()\r\n",
        " \r\n",
        "print (html)"
      ],
      "execution_count": 46,
      "outputs": [
        {
          "output_type": "stream",
          "text": [
            "b'<!DOCTYPE html>\\n<html xmlns=\"http://www.w3.org/1999/xhtml\" lang=\"en\">\\n<head>\\n\\n  <meta charset=\"utf-8\">\\n  <meta name=\"viewport\" content=\"width=device-width, initial-scale=1.0\">\\n\\n  <title>PHP: Hypertext Preprocessor</title>\\n\\n <link rel=\"shortcut icon\" href=\"https://www.php.net/favicon.ico\">\\n <link rel=\"search\" type=\"application/opensearchdescription+xml\" href=\"http://php.net/phpnetimprovedsearch.src\" title=\"Add PHP.net search\">\\n <link rel=\"alternate\" type=\"application/atom+xml\" href=\"https://www.php.net/releases/feed.php\" title=\"PHP Release feed\">\\n <link rel=\"alternate\" type=\"application/atom+xml\" href=\"https://www.php.net/feed.atom\" title=\"PHP: Hypertext Preprocessor\">\\n\\n <link rel=\"canonical\" href=\"https://www.php.net/index.php\">\\n <link rel=\"shorturl\" href=\"https://www.php.net/index\">\\n <link rel=\"alternate\" href=\"https://www.php.net/index\" hreflang=\"x-default\">\\n\\n\\n\\n<link rel=\"stylesheet\" type=\"text/css\" href=\"/cached.php?t=1539771603&amp;f=/fonts/Fira/fira.css\" media=\"screen\">\\n<link rel=\"stylesheet\" type=\"text/css\" href=\"/cached.php?t=1539765004&amp;f=/fonts/Font-Awesome/css/fontello.css\" media=\"screen\">\\n<link rel=\"stylesheet\" type=\"text/css\" href=\"/cached.php?t=1606338002&amp;f=/styles/theme-base.css\" media=\"screen\">\\n<link rel=\"stylesheet\" type=\"text/css\" href=\"/cached.php?t=1540425603&amp;f=/styles/theme-medium.css\" media=\"screen\">\\n<link rel=\"stylesheet\" type=\"text/css\" href=\"/cached.php?t=1429259403&amp;f=/styles/home.css\" media=\"screen\">\\n\\n <!--[if lte IE 7]>\\n <link rel=\"stylesheet\" type=\"text/css\" href=\"https://www.php.net/styles/workarounds.ie7.css\" media=\"screen\">\\n <![endif]-->\\n\\n <!--[if lte IE 8]>\\n <script>\\n  window.brokenIE = true;\\n </script>\\n <![endif]-->\\n\\n <!--[if lte IE 9]>\\n <link rel=\"stylesheet\" type=\"text/css\" href=\"https://www.php.net/styles/workarounds.ie9.css\" media=\"screen\">\\n <![endif]-->\\n\\n <!--[if IE]>\\n <script src=\"https://www.php.net/js/ext/html5.js\"></script>\\n <![endif]-->\\n\\n <base href=\"https://www.php.net/index.php\">\\n\\n\\n</head>\\n<body class=\"home \">\\n\\n<nav id=\"head-nav\" class=\"navbar navbar-fixed-top\">\\n  <div class=\"navbar-inner clearfix\">\\n    <a href=\"/\" class=\"brand\"><img src=\"/images/logos/php-logo.svg\" width=\"48\" height=\"24\" alt=\"php\"></a>\\n    <div id=\"mainmenu-toggle-overlay\"></div>\\n    <input type=\"checkbox\" id=\"mainmenu-toggle\">\\n    <ul class=\"nav\">\\n      <li class=\"\"><a href=\"/downloads\">Downloads</a></li>\\n      <li class=\"\"><a href=\"/docs.php\">Documentation</a></li>\\n      <li class=\"\"><a href=\"/get-involved\" >Get Involved</a></li>\\n      <li class=\"\"><a href=\"/support\">Help</a></li>\\n      <li class=\"\">\\n        <a href=\"/releases/8.0/index.php\">\\n          <img src=\"/images/php8/logo_php8.svg\" alt=\"php8\" height=\"22\" width=\"60\">\\n        </a>\\n      </li>\\n    </ul>\\n    <form class=\"navbar-search\" id=\"topsearch\" action=\"/search.php\">\\n      <input type=\"hidden\" name=\"show\" value=\"quickref\">\\n      <input type=\"search\" name=\"pattern\" class=\"search-query\" placeholder=\"Search\" accesskey=\"s\">\\n    </form>\\n  </div>\\n  <div id=\"flash-message\"></div>\\n</nav>\\n<nav id=\"trick\"><div><dl>\\n<dt><a href=\\'/manual/en/getting-started.php\\'>Getting Started</a></dt>\\n\\t<dd><a href=\\'/manual/en/introduction.php\\'>Introduction</a></dd>\\n\\t<dd><a href=\\'/manual/en/tutorial.php\\'>A simple tutorial</a></dd>\\n<dt><a href=\\'/manual/en/langref.php\\'>Language Reference</a></dt>\\n\\t<dd><a href=\\'/manual/en/language.basic-syntax.php\\'>Basic syntax</a></dd>\\n\\t<dd><a href=\\'/manual/en/language.types.php\\'>Types</a></dd>\\n\\t<dd><a href=\\'/manual/en/language.variables.php\\'>Variables</a></dd>\\n\\t<dd><a href=\\'/manual/en/language.constants.php\\'>Constants</a></dd>\\n\\t<dd><a href=\\'/manual/en/language.expressions.php\\'>Expressions</a></dd>\\n\\t<dd><a href=\\'/manual/en/language.operators.php\\'>Operators</a></dd>\\n\\t<dd><a href=\\'/manual/en/language.control-structures.php\\'>Control Structures</a></dd>\\n\\t<dd><a href=\\'/manual/en/language.functions.php\\'>Functions</a></dd>\\n\\t<dd><a href=\\'/manual/en/language.oop5.php\\'>Classes and Objects</a></dd>\\n\\t<dd><a href=\\'/manual/en/language.namespaces.php\\'>Namespaces</a></dd>\\n\\t<dd><a href=\\'/manual/en/language.errors.php\\'>Errors</a></dd>\\n\\t<dd><a href=\\'/manual/en/language.exceptions.php\\'>Exceptions</a></dd>\\n\\t<dd><a href=\\'/manual/en/language.generators.php\\'>Generators</a></dd>\\n\\t<dd><a href=\\'/manual/en/language.attributes.php\\'>Attributes</a></dd>\\n\\t<dd><a href=\\'/manual/en/language.references.php\\'>References Explained</a></dd>\\n\\t<dd><a href=\\'/manual/en/reserved.variables.php\\'>Predefined Variables</a></dd>\\n\\t<dd><a href=\\'/manual/en/reserved.exceptions.php\\'>Predefined Exceptions</a></dd>\\n\\t<dd><a href=\\'/manual/en/reserved.interfaces.php\\'>Predefined Interfaces and Classes</a></dd>\\n\\t<dd><a href=\\'/manual/en/context.php\\'>Context options and parameters</a></dd>\\n\\t<dd><a href=\\'/manual/en/wrappers.php\\'>Supported Protocols and Wrappers</a></dd>\\n</dl>\\n<dl>\\n<dt><a href=\\'/manual/en/security.php\\'>Security</a></dt>\\n\\t<dd><a href=\\'/manual/en/security.intro.php\\'>Introduction</a></dd>\\n\\t<dd><a href=\\'/manual/en/security.general.php\\'>General considerations</a></dd>\\n\\t<dd><a href=\\'/manual/en/security.cgi-bin.php\\'>Installed as CGI binary</a></dd>\\n\\t<dd><a href=\\'/manual/en/security.apache.php\\'>Installed as an Apache module</a></dd>\\n\\t<dd><a href=\\'/manual/en/security.sessions.php\\'>Session Security</a></dd>\\n\\t<dd><a href=\\'/manual/en/security.filesystem.php\\'>Filesystem Security</a></dd>\\n\\t<dd><a href=\\'/manual/en/security.database.php\\'>Database Security</a></dd>\\n\\t<dd><a href=\\'/manual/en/security.errors.php\\'>Error Reporting</a></dd>\\n\\t<dd><a href=\\'/manual/en/security.globals.php\\'>Using Register Globals</a></dd>\\n\\t<dd><a href=\\'/manual/en/security.variables.php\\'>User Submitted Data</a></dd>\\n\\t<dd><a href=\\'/manual/en/security.hiding.php\\'>Hiding PHP</a></dd>\\n\\t<dd><a href=\\'/manual/en/security.current.php\\'>Keeping Current</a></dd>\\n<dt><a href=\\'/manual/en/features.php\\'>Features</a></dt>\\n\\t<dd><a href=\\'/manual/en/features.http-auth.php\\'>HTTP authentication with PHP</a></dd>\\n\\t<dd><a href=\\'/manual/en/features.cookies.php\\'>Cookies</a></dd>\\n\\t<dd><a href=\\'/manual/en/features.sessions.php\\'>Sessions</a></dd>\\n\\t<dd><a href=\\'/manual/en/features.xforms.php\\'>Dealing with XForms</a></dd>\\n\\t<dd><a href=\\'/manual/en/features.file-upload.php\\'>Handling file uploads</a></dd>\\n\\t<dd><a href=\\'/manual/en/features.remote-files.php\\'>Using remote files</a></dd>\\n\\t<dd><a href=\\'/manual/en/features.connection-handling.php\\'>Connection handling</a></dd>\\n\\t<dd><a href=\\'/manual/en/features.persistent-connections.php\\'>Persistent Database Connections</a></dd>\\n\\t<dd><a href=\\'/manual/en/features.commandline.php\\'>Command line usage</a></dd>\\n\\t<dd><a href=\\'/manual/en/features.gc.php\\'>Garbage Collection</a></dd>\\n\\t<dd><a href=\\'/manual/en/features.dtrace.php\\'>DTrace Dynamic Tracing</a></dd>\\n</dl>\\n<dl>\\n<dt><a href=\\'/manual/en/funcref.php\\'>Function Reference</a></dt>\\n\\t<dd><a href=\\'/manual/en/refs.basic.php.php\\'>Affecting PHP\\'s Behaviour</a></dd>\\n\\t<dd><a href=\\'/manual/en/refs.utilspec.audio.php\\'>Audio Formats Manipulation</a></dd>\\n\\t<dd><a href=\\'/manual/en/refs.remote.auth.php\\'>Authentication Services</a></dd>\\n\\t<dd><a href=\\'/manual/en/refs.utilspec.cmdline.php\\'>Command Line Specific Extensions</a></dd>\\n\\t<dd><a href=\\'/manual/en/refs.compression.php\\'>Compression and Archive Extensions</a></dd>\\n\\t<dd><a href=\\'/manual/en/refs.crypto.php\\'>Cryptography Extensions</a></dd>\\n\\t<dd><a href=\\'/manual/en/refs.database.php\\'>Database Extensions</a></dd>\\n\\t<dd><a href=\\'/manual/en/refs.calendar.php\\'>Date and Time Related Extensions</a></dd>\\n\\t<dd><a href=\\'/manual/en/refs.fileprocess.file.php\\'>File System Related Extensions</a></dd>\\n\\t<dd><a href=\\'/manual/en/refs.international.php\\'>Human Language and Character Encoding Support</a></dd>\\n\\t<dd><a href=\\'/manual/en/refs.utilspec.image.php\\'>Image Processing and Generation</a></dd>\\n\\t<dd><a href=\\'/manual/en/refs.remote.mail.php\\'>Mail Related Extensions</a></dd>\\n\\t<dd><a href=\\'/manual/en/refs.math.php\\'>Mathematical Extensions</a></dd>\\n\\t<dd><a href=\\'/manual/en/refs.utilspec.nontext.php\\'>Non-Text MIME Output</a></dd>\\n\\t<dd><a href=\\'/manual/en/refs.fileprocess.process.php\\'>Process Control Extensions</a></dd>\\n\\t<dd><a href=\\'/manual/en/refs.basic.other.php\\'>Other Basic Extensions</a></dd>\\n\\t<dd><a href=\\'/manual/en/refs.remote.other.php\\'>Other Services</a></dd>\\n\\t<dd><a href=\\'/manual/en/refs.search.php\\'>Search Engine Extensions</a></dd>\\n\\t<dd><a href=\\'/manual/en/refs.utilspec.server.php\\'>Server Specific Extensions</a></dd>\\n\\t<dd><a href=\\'/manual/en/refs.basic.session.php\\'>Session Extensions</a></dd>\\n\\t<dd><a href=\\'/manual/en/refs.basic.text.php\\'>Text Processing</a></dd>\\n\\t<dd><a href=\\'/manual/en/refs.basic.vartype.php\\'>Variable and Type Related Extensions</a></dd>\\n\\t<dd><a href=\\'/manual/en/refs.webservice.php\\'>Web Services</a></dd>\\n\\t<dd><a href=\\'/manual/en/refs.utilspec.windows.php\\'>Windows Only Extensions</a></dd>\\n\\t<dd><a href=\\'/manual/en/refs.xml.php\\'>XML Manipulation</a></dd>\\n\\t<dd><a href=\\'/manual/en/refs.ui.php\\'>GUI Extensions</a></dd>\\n</dl>\\n<dl>\\n<dt>Keyboard Shortcuts</dt><dt>?</dt>\\n<dd>This help</dd>\\n<dt>j</dt>\\n<dd>Next menu item</dd>\\n<dt>k</dt>\\n<dd>Previous menu item</dd>\\n<dt>g p</dt>\\n<dd>Previous man page</dd>\\n<dt>g n</dt>\\n<dd>Next man page</dd>\\n<dt>G</dt>\\n<dd>Scroll to bottom</dd>\\n<dt>g g</dt>\\n<dd>Scroll to top</dd>\\n<dt>g h</dt>\\n<dd>Goto homepage</dd>\\n<dt>g s</dt>\\n<dd>Goto search<br>(current page)</dd>\\n<dt>/</dt>\\n<dd>Focus search box</dd>\\n</dl></div></nav>\\n<div id=\"goto\">\\n    <div class=\"search\">\\n         <div class=\"text\"></div>\\n         <div class=\"results\"><ul></ul></div>\\n   </div>\\n</div>\\n\\n\\n\\n<div id=\"intro\" class=\"clearfix\">\\n  <div class=\"container\">\\n      <div class=\"row clearfix\">\\n    <div class=\"blurb\">\\n      <p>PHP is a popular general-purpose scripting language that is especially suited to web development.</p>\\n      <p>Fast, flexible and pragmatic, PHP powers everything from your blog to the most popular websites in the world.</p>\\n    </div>\\n    <div class=\"download\">\\n      <h3>Download</h3><ul>\\n\\n            <li><a class=\\'download-link\\' href=\\'/downloads.php#v8.0.1\\'>8.0.1</a><span class=\\'dot\\'>&middot;</span><a class=\\'notes\\' href=\\'/ChangeLog-8.php#8.0.1\\'>Release Notes</a><span class=\\'dot\\'>&middot;</span><a class=\\'notes\\' href=\\'/migration80\\'>Upgrading</a></li>\\n\\n            <li><a class=\\'download-link\\' href=\\'/downloads.php#v7.4.14\\'>7.4.14</a><span class=\\'dot\\'>&middot;</span><a class=\\'notes\\' href=\\'/ChangeLog-7.php#7.4.14\\'>Release Notes</a><span class=\\'dot\\'>&middot;</span><a class=\\'notes\\' href=\\'/migration74\\'>Upgrading</a></li>\\n\\n            <li><a class=\\'download-link\\' href=\\'/downloads.php#v7.3.26\\'>7.3.26</a><span class=\\'dot\\'>&middot;</span><a class=\\'notes\\' href=\\'/ChangeLog-7.php#7.3.26\\'>Release Notes</a><span class=\\'dot\\'>&middot;</span><a class=\\'notes\\' href=\\'/migration73\\'>Upgrading</a></li>\\n</ul>\\n    </div>\\n  </div>  </div>\\n</div>\\n\\n\\n<div id=\"layout\" class=\"clearfix\">\\n  <section id=\"layout-content\">\\n<div class=\\'home-content\\'><article class=\"newsentry\">\\n  <header class=\"title\">\\n    <time datetime=\"2021-01-07T15:44:37+00:00\">07 Jan 2021</time>\\n    <h2 class=\"newstitle\">\\n      <a href=\"https://www.php.net/archive/2021.php#2021-01-07-3\" id=\"2021-01-07-3\">PHP 8.0.1 Released!</a>\\n    </h2>\\n  </header>\\n  <div class=\"newscontent\">\\n    <div><p>The PHP development team announces the immediate availability of PHP 8.0.1. This is a bug fix release.</p>\\n\\n<p>All PHP 8.0 users are encouraged to upgrade to this version.</p>\\n\\n<p>For source downloads of PHP 8.0.1 please visit our <a href=\"https://www.php.net/downloads.php\">downloads page</a>,\\nWindows source and binaries can be found on <a href=\"https://windows.php.net/download/\">windows.php.net/download/</a>.\\nThe list of changes is recorded in the <a href=\"https://www.php.net/ChangeLog-8.php#8.0.1\">ChangeLog</a>.\\n</p>    </div>\\n  \\n  </div>\\n</article><article class=\"newsentry\">\\n  <header class=\"title\">\\n    <time datetime=\"2021-01-07T10:31:37+00:00\">07 Jan 2021</time>\\n    <h2 class=\"newstitle\">\\n      <a href=\"https://www.php.net/archive/2021.php#2021-01-07-2\" id=\"2021-01-07-2\">PHP 7.3.26 Released!</a>\\n    </h2>\\n  </header>\\n  <div class=\"newscontent\">\\n    <div><p>The PHP development team announces the immediate availability of PHP 7.3.26. This is a security release.</p>\\n\\n<p>All PHP 7.3 users are encouraged to upgrade to this version.</p>\\n\\n<p>For source downloads of PHP 7.3.26 please visit our <a href=\"https://www.php.net/downloads.php\">downloads page</a>,\\nWindows source and binaries can be found on <a href=\"https://windows.php.net/download/\">windows.php.net/download/</a>.\\nThe list of changes is recorded in the <a href=\"https://www.php.net/ChangeLog-7.php#7.3.26\">ChangeLog</a>.\\n</p>    </div>\\n  \\n  </div>\\n</article><article class=\"newsentry\">\\n  <header class=\"title\">\\n    <time datetime=\"2021-01-07T09:57:50+00:00\">07 Jan 2021</time>\\n    <h2 class=\"newstitle\">\\n      <a href=\"https://www.php.net/archive/2021.php#2021-01-07-1\" id=\"2021-01-07-1\">PHP 7.4.14 Released!</a>\\n    </h2>\\n  </header>\\n  <div class=\"newscontent\">\\n    <div><p>The PHP development team announces the immediate availability of PHP 7.4.14. This is a security release.</p>\\n\\n<p>All PHP 7.4 users are encouraged to upgrade to this version.</p>\\n\\n<p>For source downloads of PHP 7.4.14 please visit our <a href=\"https://www.php.net/downloads.php\">downloads page</a>,\\nWindows source and binaries can be found on <a href=\"https://windows.php.net/download/\">windows.php.net/download/</a>.\\nThe list of changes is recorded in the <a href=\"https://www.php.net/ChangeLog-7.php#7.4.14\">ChangeLog</a>.\\n</p>    </div>\\n  \\n  </div>\\n</article><article class=\"newsentry\">\\n  <header class=\"title\">\\n    <time datetime=\"2020-11-26T13:07:59+00:00\">26 Nov 2020</time>\\n    <h2 class=\"newstitle\">\\n      <a href=\"https://www.php.net/archive/2020.php#2020-11-26-3\" id=\"2020-11-26-3\">PHP 8.0.0 Released!</a>\\n    </h2>\\n  </header>\\n  <div class=\"newscontent\">\\n    <div>\\n<p>The PHP development team announces the immediate availability of PHP 8.0.0. This release marks the latest major release of the PHP language.</p>\\n\\n<p>PHP 8.0 comes with numerous improvements and new features such as:</p>\\n<ul>\\n  <li>Union Types</li>\\n  <li>Named Arguments</li>\\n  <li>Match Expressions</li>\\n  <li>Attributes</li>\\n  <li>Constructor Property Promotion</li>\\n  <li>Nullsafe Operator</li>\\n  <li>Weak Maps</li>\\n  <li>Just In Time Compilation</li>\\n  <li>And much much more...</li>\\n</ul>\\n\\n<p>Take a look at the <a href=\"https://www.php.net/releases/8.0/\">PHP 8.0 Announcement Addendum</a> for more information.</p>\\n\\n<p>For source downloads of PHP 8.0.0 please visit our <a href=\"https://www.php.net/downloads.php\">downloads page</a>,\\nWindows source and binaries can be found on <a href=\"https://windows.php.net/download/\">windows.php.net/download/</a>.\\nThe list of changes is recorded in the <a href=\"https://www.php.net/ChangeLog-8.php#8.0.0\">ChangeLog</a>.\\n</p>\\n\\n<p>The <a href=\"http://php.net/manual/en/migration80.php\">migration guide</a> is available in the PHP Manual.\\nPlease consult it for the detailed list of new features and backward incompatible changes.</p> \\n\\n<p>Many thanks to all the contributors and supporters!</p>\\n    </div>\\n  \\n  </div>\\n</article><article class=\"newsentry\">\\n  <header class=\"title\">\\n    <time datetime=\"2020-11-26T10:30:36+00:00\">26 Nov 2020</time>\\n    <h2 class=\"newstitle\">\\n      <a href=\"https://www.php.net/archive/2020.php#2020-11-26-2\" id=\"2020-11-26-2\">PHP 7.3.25 Released!</a>\\n    </h2>\\n  </header>\\n  <div class=\"newscontent\">\\n    <div><p>The PHP development team announces the immediate availability of PHP 7.3.25. This is a bug fix release.</p>\\n\\n<p>All PHP 7.3 users are encouraged to upgrade to this version.</p>\\n\\n<p>For source downloads of PHP 7.3.25 please visit our <a href=\"https://www.php.net/downloads.php\">downloads page</a>,\\nWindows source and binaries can be found on <a href=\"https://windows.php.net/download/\">windows.php.net/download/</a>.\\nThe list of changes is recorded in the <a href=\"https://www.php.net/ChangeLog-7.php#7.3.25\">ChangeLog</a>.\\n</p>    </div>\\n  \\n  </div>\\n</article><article class=\"newsentry\">\\n  <header class=\"title\">\\n    <time datetime=\"2020-11-26T01:12:18+00:00\">26 Nov 2020</time>\\n    <h2 class=\"newstitle\">\\n      <a href=\"https://www.php.net/archive/2020.php#2020-11-26-1\" id=\"2020-11-26-1\">PHP 7.4.13 Released!</a>\\n    </h2>\\n  </header>\\n  <div class=\"newscontent\">\\n    <div><p>The PHP development team announces the immediate availability of PHP 7.4.13. This is a bug fix release.</p>\\n\\n<p>All PHP 7.4 users are encouraged to upgrade to this version.</p>\\n\\n<p>For source downloads of PHP 7.4.13 please visit our <a href=\"https://www.php.net/downloads.php\">downloads page</a>,\\nWindows source and binaries can be found on <a href=\"https://windows.php.net/download/\">windows.php.net/download/</a>.\\nThe list of changes is recorded in the <a href=\"https://www.php.net/ChangeLog-7.php#7.4.13\">ChangeLog</a>.\\n</p>    </div>\\n  \\n  </div>\\n</article><article class=\"newsentry\">\\n  <header class=\"title\">\\n    <time datetime=\"2020-11-19T10:48:46+00:00\">19 Nov 2020</time>\\n    <h2 class=\"newstitle\">\\n      <a href=\"https://www.php.net/archive/2020.php#2020-11-19-1\" id=\"2020-11-19-1\">PHP 8.0.0 Release Candidate 5 available for testing</a>\\n    </h2>\\n  </header>\\n  <div class=\"newscontent\">\\n    <div>\\n      <p>\\n        The PHP team is pleased to announce the eleventh testing release of PHP 8.0.0, Release Candidate 5.\\n      </p>\\n\\n      <p>\\n        This is an extra unplanned release, but we\\'re not planning to adjust the GA date,\\n        however, this may change during the course of the RC cycle.\\n        The updated release schedule can, as always, be found on the\\n        <a href=\"https://wiki.php.net/todo/php80\">PHP Wiki page about the PHP 8.0</a>.\\n      </p>\\n\\n      <p>For source downloads of PHP 8.0.0 Release Candidate 5 please visit the <a href=\"https://downloads.php.net/~carusogabriel\">download page</a>.</p>\\n\\n      <p>Please carefully test this version and report any issues found in the <a href=\"http://bugs.php.net\">bug reporting system</a>.</p>\\n\\n      <p><b>Please DO NOT use this version in production, it is an early test version.</b></p>\\n\\n      <p>\\n        For more information on the new features and other changes, you can read the\\n        <a href=\"https://github.com/php/php-src/blob/php-8.0.0RC5/NEWS\">NEWS</a> file,\\n        or the <a href=\"https://github.com/php/php-src/blob/php-8.0.0RC5/UPGRADING\">UPGRADING</a>\\n        file for a complete list of upgrading notes. These files can also be found in the release archive.\\n      </p>\\n\\n      <p>The next release will be the General Availability, planned for Nov 26 2020.</p>\\n\\n      <p>The signatures for the release can be found in <a href=\"https://gist.github.com/carusogabriel/b5ddfc1e166bff3c4fa6db0e83352b95\">the manifest</a> or on <a href=\"https://qa.php.net/\">the QA site</a>.</p>\\n\\n      <p>Thank you for helping us make PHP better.</p>\\n    </div>\\n  \\n  </div>\\n</article><article class=\"newsentry\">\\n  <header class=\"title\">\\n    <time datetime=\"2020-11-12T11:49:58+00:00\">12 Nov 2020</time>\\n    <h2 class=\"newstitle\">\\n      <a href=\"https://www.php.net/archive/2020.php#2020-11-12-1\" id=\"2020-11-12-1\">PHP 8.0.0 Release Candidate 4 available for testing</a>\\n    </h2>\\n  </header>\\n  <div class=\"newscontent\">\\n    <div>\\n      <p>\\n        The PHP team is pleased to announce the tenth testing release of PHP 8.0.0, Release Candidate 4.\\n      </p>\\n\\n      <p>\\n        At this time, we\\'re not planning to adjust the GA date,\\n        however this may change during the course of the RC cycle.\\n        The updated release schedule can, as always, be found on the\\n        <a href=\"https://wiki.php.net/todo/php80\">PHP Wiki page about the PHP 8.0</a>.\\n      </p>\\n\\n      <p>For source downloads of PHP 8.0.0 Release Candidate 4 please visit the <a href=\"https://downloads.php.net/~carusogabriel\">download page</a>.</p>\\n\\n      <p>Please carefully test this version and report any issues found in the <a href=\"http://bugs.php.net\">bug reporting system</a>.</p>\\n\\n      <p><b>Please DO NOT use this version in production, it is an early test version.</b></p>\\n\\n      <p>\\n        For more information on the new features and other changes, you can read the\\n        <a href=\"https://github.com/php/php-src/blob/php-8.0.0RC4/NEWS\">NEWS</a> file,\\n        or the <a href=\"https://github.com/php/php-src/blob/php-8.0.0RC4/UPGRADING\">UPGRADING</a>\\n        file for a complete list of upgrading notes. These files can also be found in the release archive.\\n      </p>\\n\\n      <p>The next release will be the General Availability, planned for Nov 26 2020.</p>\\n\\n      <p>The signatures for the release can be found in <a href=\"https://gist.github.com/carusogabriel/7c9f2bdb6349925ab6ae4b20558d07c7\">the manifest</a> or on <a href=\"https://qa.php.net/\">the QA site</a>.</p>\\n\\n      <p>Thank you for helping us make PHP better.</p>\\n    </div>\\n  \\n  </div>\\n</article><article class=\"newsentry\">\\n  <header class=\"title\">\\n    <time datetime=\"2020-10-29T17:54:57+00:00\">29 Oct 2020</time>\\n    <h2 class=\"newstitle\">\\n      <a href=\"https://www.php.net/archive/2020.php#2020-10-29-3\" id=\"2020-10-29-3\">PHP 7.4.12 Released!</a>\\n    </h2>\\n  </header>\\n  <div class=\"newscontent\">\\n    <div><p>The PHP development team announces the immediate availability of PHP 7.4.12. This is a bug fix release.</p>\\n\\n<p>All PHP 7.4 users are encouraged to upgrade to this version.</p>\\n\\n<p>For source downloads of PHP 7.4.12 please visit our <a href=\"https://www.php.net/downloads.php\">downloads page</a>,\\nWindows source and binaries can be found on <a href=\"https://windows.php.net/download/\">windows.php.net/download/</a>.\\nThe list of changes is recorded in the <a href=\"https://www.php.net/ChangeLog-7.php#7.4.12\">ChangeLog</a>.\\n</p>    </div>\\n  \\n  </div>\\n</article><article class=\"newsentry\">\\n  <header class=\"title\">\\n    <time datetime=\"2020-10-29T11:45:56+00:00\">29 Oct 2020</time>\\n    <h2 class=\"newstitle\">\\n      <a href=\"https://www.php.net/archive/2020.php#2020-10-29-2\" id=\"2020-10-29-2\">PHP 8.0.0 Release Candidate 3 available for testing</a>\\n    </h2>\\n  </header>\\n  <div class=\"newscontent\">\\n    <div>\\n      <p>\\n        The PHP team is pleased to announce the tenth testing release of PHP 8.0.0, Release Candidate 3.\\n      </p>\\n\\n      <p>\\n        At this time, we\\'re not planning to adjust the GA date,\\n        however this may change during the course of the RC cycle.\\n        The updated release schedule can, as always, be found on the\\n        <a href=\"https://wiki.php.net/todo/php80\">PHP Wiki page about the PHP 8.0</a>.\\n      </p>\\n\\n      <p>For source downloads of PHP 8.0.0 Release Candidate 3 please visit the <a href=\"https://downloads.php.net/~carusogabriel\">download page</a>.</p>\\n\\n      <p>Please carefully test this version and report any issues found in the <a href=\"http://bugs.php.net\">bug reporting system</a>.</p>\\n\\n      <p><b>Please DO NOT use this version in production, it is an early test version.</b></p>\\n\\n      <p>\\n        For more information on the new features and other changes, you can read the\\n        <a href=\"https://github.com/php/php-src/blob/php-8.0.0RC3/NEWS\">NEWS</a> file,\\n        or the <a href=\"https://github.com/php/php-src/blob/php-8.0.0RC3/UPGRADING\">UPGRADING</a>\\n        file for a complete list of upgrading notes. These files can also be found in the release archive.\\n      </p>\\n\\n      <p>The next release will be the Release Candidate 4, planned for Nov 12 2020.</p>\\n\\n      <p>The signatures for the release can be found in <a href=\"https://gist.github.com/carusogabriel/700b7fafff4f50681d0f4d707da82a4f\">the manifest</a> or on <a href=\"https://qa.php.net/\">the QA site</a>.</p>\\n\\n      <p>Thank you for helping us make PHP better.</p>\\n    </div>\\n  \\n  </div>\\n</article><article class=\"newsentry\">\\n  <header class=\"title\">\\n    <time datetime=\"2020-10-29T10:21:13+00:00\">29 Oct 2020</time>\\n    <h2 class=\"newstitle\">\\n      <a href=\"https://www.php.net/archive/2020.php#2020-10-29-1\" id=\"2020-10-29-1\">PHP 7.3.24 Released!</a>\\n    </h2>\\n  </header>\\n  <div class=\"newscontent\">\\n    <div><p>The PHP development team announces the immediate availability of PHP 7.3.24. This is a bug fix release.</p>\\n\\n<p>All PHP 7.3 users are encouraged to upgrade to this version.</p>\\n\\n<p>For source downloads of PHP 7.3.24 please visit our <a href=\"https://www.php.net/downloads.php\">downloads page</a>,\\nWindows source and binaries can be found on <a href=\"https://windows.php.net/download/\">windows.php.net/download/</a>.\\nThe list of changes is recorded in the <a href=\"https://www.php.net/ChangeLog-7.php#7.3.24\">ChangeLog</a>.\\n</p>    </div>\\n  \\n  </div>\\n</article><article class=\"newsentry\">\\n  <header class=\"title\">\\n    <time datetime=\"2020-10-16T09:42:33+00:00\">16 Oct 2020</time>\\n    <h2 class=\"newstitle\">\\n      <a href=\"https://www.php.net/archive/2020.php#2020-10-16-1\" id=\"2020-10-16-1\">PHP 8.0.0 Release Candidate 2 available for testing</a>\\n    </h2>\\n  </header>\\n  <div class=\"newscontent\">\\n    <div>\\n      <p>\\n        The PHP team is pleased to announce the ninth testing release of PHP 8.0.0, Release Candidate 2.\\n      </p>\\n\\n      <p>\\n        At this time, we\\'re not planning to adjust the GA date,\\n        however this may change during the course of the RC cycle.\\n        The updated release schedule can, as always, be found on the\\n        <a href=\"https://wiki.php.net/todo/php80\">PHP Wiki page about the PHP 8.0</a>.\\n      </p>\\n\\n      <p>For source downloads of PHP 8.0.0 Release Candidate 2 please visit the <a href=\"https://downloads.php.net/~pollita\">download page</a>.</p>\\n\\n      <p>Please carefully test this version and report any issues found in the <a href=\"http://bugs.php.net\">bug reporting system</a>.</p>\\n\\n      <p><b>Please DO NOT use this version in production, it is an early test version.</b></p>\\n\\n      <p>\\n        For more information on the new features and other changes, you can read the\\n        <a href=\"https://github.com/php/php-src/blob/php-8.0.0RC2/NEWS\">NEWS</a> file,\\n        or the <a href=\"https://github.com/php/php-src/blob/php-8.0.0RC2/UPGRADING\">UPGRADING</a>\\n        file for a complete list of upgrading notes. These files can also be found in the release archive.\\n      </p>\\n\\n      <p>The next release will be the Release Candidate 3, planned for Oct 29 2020.</p>\\n\\n      <p>The signatures for the release can be found in <a href=\"https://gist.github.com/sgolemon/c7a4e75c3d304d781de4289b31c487f9\">the manifest</a> or on <a href=\"https://qa.php.net/\">the QA site</a>.</p>\\n\\n      <p>Thank you for helping us make PHP better.</p>\\n    </div>\\n  \\n  </div>\\n</article><article class=\"newsentry\">\\n  <header class=\"title\">\\n    <time datetime=\"2020-10-01T18:00:54+00:00\">01 Oct 2020</time>\\n    <h2 class=\"newstitle\">\\n      <a href=\"https://www.php.net/archive/2020.php#2020-10-01-4\" id=\"2020-10-01-4\">PHP 8.0.0 Release Candidate 1 available for testing</a>\\n    </h2>\\n  </header>\\n  <div class=\"newscontent\">\\n    <div>\\n      <p>\\n        The PHP team is pleased to announce the eighth testing release of PHP 8.0.0, Release Candidate 1.\\n      </p>\\n\\n      <p>\\n        At this time, we\\'re not planning to adjust the GA date,\\n        however this may change during the course of the RC cycle.\\n        The updated release schedule can, as always, be found on the\\n        <a href=\"https://wiki.php.net/todo/php80\">PHP Wiki page about the PHP 8.0</a>.\\n      </p>\\n\\n      <p>For source downloads of PHP 8.0.0 Release Candidate 1 please visit the <a href=\"https://downloads.php.net/~carusogabriel\">download page</a>.</p>\\n\\n      <p>Please carefully test this version and report any issues found in the <a href=\"http://bugs.php.net\">bug reporting system</a>.</p>\\n\\n      <p><b>Please DO NOT use this version in production, it is an early test version.</b></p>\\n\\n      <p>\\n        For more information on the new features and other changes, you can read the\\n        <a href=\"https://github.com/php/php-src/blob/php-8.0.0rc1/NEWS\">NEWS</a> file,\\n        or the <a href=\"https://github.com/php/php-src/blob/php-8.0.0rc1/UPGRADING\">UPGRADING</a>\\n        file for a complete list of upgrading notes. These files can also be found in the release archive.\\n      </p>\\n\\n      <p>The next release will be the Release Candidate 2, planned for Oct 15 2020.</p>\\n\\n      <p>The signatures for the release can be found in <a href=\"https://gist.github.com/carusogabriel/cb6e1b957fff40fc1bc9425a01cf6e89\">the manifest</a> or on <a href=\"https://qa.php.net/\">the QA site</a>.</p>\\n\\n      <p>Thank you for helping us make PHP better.</p>\\n    </div>\\n  \\n  </div>\\n</article><article class=\"newsentry\">\\n  <header class=\"title\">\\n    <time datetime=\"2020-10-01T13:28:37+00:00\">01 Oct 2020</time>\\n    <h2 class=\"newstitle\">\\n      <a href=\"https://www.php.net/archive/2020.php#2020-10-01-3\" id=\"2020-10-01-3\">PHP 7.3.23 Released!</a>\\n    </h2>\\n  </header>\\n  <div class=\"newscontent\">\\n    <div><p>The PHP development team announces the immediate availability of PHP 7.3.23. This is a security release.</p>\\n\\n<p>All PHP 7.3 users are encouraged to upgrade to this version.</p>\\n\\n<p>For source downloads of PHP 7.3.23 please visit our <a href=\"https://www.php.net/downloads.php\">downloads page</a>,\\nWindows source and binaries can be found on <a href=\"https://windows.php.net/download/\">windows.php.net/download/</a>.\\nThe list of changes is recorded in the <a href=\"https://www.php.net/ChangeLog-7.php#7.3.23\">ChangeLog</a>.\\n</p>    </div>\\n  \\n  </div>\\n</article><article class=\"newsentry\">\\n  <header class=\"title\">\\n    <time datetime=\"2020-10-01T13:16:42+00:00\">01 Oct 2020</time>\\n    <h2 class=\"newstitle\">\\n      <a href=\"https://www.php.net/archive/2020.php#2020-10-01-2\" id=\"2020-10-01-2\">PHP 7.4.11 Released!</a>\\n    </h2>\\n  </header>\\n  <div class=\"newscontent\">\\n    <div><p>The PHP development team announces the immediate availability of PHP 7.4.11. This is a security release.</p>\\n\\n<p>All PHP 7.4 users are encouraged to upgrade to this version.</p>\\n\\n<p>For source downloads of PHP 7.4.11 please visit our <a href=\"https://www.php.net/downloads.php\">downloads page</a>,\\nWindows source and binaries can be found on <a href=\"https://windows.php.net/download/\">windows.php.net/download/</a>.\\nThe list of changes is recorded in the <a href=\"https://www.php.net/ChangeLog-7.php#7.4.11\">ChangeLog</a>.\\n</p>    </div>\\n  \\n  </div>\\n</article><article class=\"newsentry\">\\n  <header class=\"title\">\\n    <time datetime=\"2020-10-01T13:05:27+00:00\">01 Oct 2020</time>\\n    <h2 class=\"newstitle\">\\n      <a href=\"https://www.php.net/archive/2020.php#2020-10-01-1\" id=\"2020-10-01-1\">PHP 7.2.34 Released!</a>\\n    </h2>\\n  </header>\\n  <div class=\"newscontent\">\\n    <div><p>The PHP development team announces the immediate availability of PHP 7.2.34. This is a security release.</p>\\n\\n<p>All PHP 7.2 users are encouraged to upgrade to this version.</p>\\n\\n<p>For source downloads of PHP 7.2.34 please visit our <a href=\"https://www.php.net/downloads.php\">downloads page</a>,\\nWindows source and binaries can be found on <a href=\"https://windows.php.net/download/\">windows.php.net/download/</a>.\\nThe list of changes is recorded in the <a href=\"https://www.php.net/ChangeLog-7.php#7.2.34\">ChangeLog</a>.\\n</p>\\n    </div>\\n  \\n  </div>\\n</article><article class=\"newsentry\">\\n  <header class=\"title\">\\n    <time datetime=\"2020-09-17T14:25:00+00:00\">17 Sep 2020</time>\\n    <h2 class=\"newstitle\">\\n      <a href=\"https://www.php.net/archive/2020.php#2020-09-17-1\" id=\"2020-09-17-1\">PHP 8.0.0 Beta 4 available for testing</a>\\n    </h2>\\n  </header>\\n  <div class=\"newscontent\">\\n    <div>\\n      <p>\\n        The PHP team is pleased to announce the seventh testing release of PHP 8.0.0, Beta 4.\\n        This point in the release cycle would normally be RC1, however we\\'re still finalizing\\n        development of the JIT and squaring away named arguments, so we\\'ve opted for an extra\\n        beta release with plans to start the RC cycle in two weeks.\\n      </p>\\n\\n      <p>\\n        At this time, we\\'re not planning to adjust the GA date,\\n        however this may change during the course of the RC cycle.\\n        The updated release schedule can, as always, be found on the\\n        <a href=\"https://wiki.php.net/todo/php80\">PHP Wiki</a>.\\n      </p>\\n\\n      <p>For source downloads of PHP 8.0.0 Beta 4 please visit the <a href=\"https://downloads.php.net/~pollita\">download page</a>.</p>\\n\\n      <p>Please carefully test this version and report any issues found in the <a href=\"http://bugs.php.net\">bug reporting system</a>.</p>\\n\\n      <p><b>Please DO NOT use this version in production, it is an early test version.</b></p>\\n\\n      <p>\\n        For more information on the new features and other changes, you can read the\\n        <a href=\"https://github.com/php/php-src/blob/php-8.0.0beta4/NEWS\">NEWS</a> file,\\n        or the <a href=\"https://github.com/php/php-src/blob/php-8.0.0beta4/UPGRADING\">UPGRADING</a>\\n        file for a complete list of upgrading notes. These files can also be found in the release archive.\\n      </p>\\n\\n      <p>The next release will be the Release Candidate 1, planned for Oct 1 2020.</p>\\n\\n      <p>The signatures for the release can be found in <a href=\"https://gist.github.com/sgolemon/ddef47870381cae12120d41f59374847\">the manifest</a> or on <a href=\"https://qa.php.net/\">the QA site</a>.</p>\\n\\n      <p>Thank you for helping us make PHP better.</p>\\n    </div>\\n  \\n  </div>\\n</article><article class=\"newsentry\">\\n  <header class=\"title\">\\n    <time datetime=\"2020-09-03T12:41:00+00:00\">03 Sep 2020</time>\\n    <h2 class=\"newstitle\">\\n      <a href=\"https://www.php.net/archive/2020.php#2020-09-03-3\" id=\"2020-09-03-3\">PHP 8.0.0 Beta 3 available for testing</a>\\n    </h2>\\n  </header>\\n  <div class=\"newscontent\">\\n    <div>\\n      <p>\\n        The PHP team is pleased to announce the sixth testing release of PHP 8.0.0, Beta 3.\\n        This continues the PHP 8.0 release cycle, the rough outline of which is specified in the\\n        <a href=\"https://wiki.php.net/todo/php80\">PHP Wiki</a>.\\n      </p>\\n\\n      <p>For source downloads of PHP 8.0.0 Beta 3 please visit the <a href=\"https://downloads.php.net/~carusogabriel\">download page</a>.</p>\\n\\n      <p>Please carefully test this version and report any issues found in the <a href=\"http://bugs.php.net\">bug reporting system</a>.</p>\\n\\n      <p><b>Please DO NOT use this version in production, it is an early test version.</b></p>\\n\\n      <p>\\n        For more information on the new features and other changes, you can read the\\n        <a href=\"https://github.com/php/php-src/blob/php-8.0.0beta3/NEWS\">NEWS</a> file,\\n        or the <a href=\"https://github.com/php/php-src/blob/php-8.0.0beta3/UPGRADING\">UPGRADING</a>\\n        file for a complete list of upgrading notes. These files can also be found in the release archive.\\n      </p>\\n\\n      <p>The next release will be the Release Candidate 1, planned for Sep 17 2020.</p>\\n\\n      <p>The signatures for the release can be found in <a href=\"https://gist.github.com/carusogabriel/e95befa31ef171ad911e882d1b8c9f05\">the manifest</a> or on <a href=\"https://qa.php.net/\">the QA site</a>.</p>\\n\\n      <p>Thank you for helping us make PHP better.</p>\\n    </div>\\n  \\n  </div>\\n</article><article class=\"newsentry\">\\n  <header class=\"title\">\\n    <time datetime=\"2020-09-03T10:02:55+00:00\">03 Sep 2020</time>\\n    <h2 class=\"newstitle\">\\n      <a href=\"https://www.php.net/archive/2020.php#2020-09-03-2\" id=\"2020-09-03-2\">PHP 7.4.10 Released!</a>\\n    </h2>\\n  </header>\\n  <div class=\"newscontent\">\\n    <div><p>The PHP development team announces the immediate availability of PHP 7.4.10. This is a bug fix release.</p>\\n\\n<p>All PHP 7.4 users are encouraged to upgrade to this version.</p>\\n\\n<p>For source downloads of PHP 7.4.10 please visit our <a href=\"https://www.php.net/downloads.php\">downloads page</a>,\\nWindows source and binaries can be found on <a href=\"https://windows.php.net/download/\">windows.php.net/download/</a>.\\nThe list of changes is recorded in the <a href=\"https://www.php.net/ChangeLog-7.php#7.4.10\">ChangeLog</a>.\\n</p>    </div>\\n  \\n  </div>\\n</article><article class=\"newsentry\">\\n  <header class=\"title\">\\n    <time datetime=\"2020-09-03T09:19:07+00:00\">03 Sep 2020</time>\\n    <h2 class=\"newstitle\">\\n      <a href=\"https://www.php.net/archive/2020.php#2020-09-03-1\" id=\"2020-09-03-1\">PHP 7.3.22 Released!</a>\\n    </h2>\\n  </header>\\n  <div class=\"newscontent\">\\n    <div><p>The PHP development team announces the immediate availability of PHP 7.3.22. This is a bug fix release.</p>\\n\\n<p>All PHP 7.3 users are encouraged to upgrade to this version.</p>\\n\\n<p>For source downloads of PHP 7.3.22 please visit our <a href=\"https://www.php.net/downloads.php\">downloads page</a>,\\nWindows source and binaries can be found on <a href=\"https://windows.php.net/download/\">windows.php.net/download/</a>.\\nThe list of changes is recorded in the <a href=\"https://www.php.net/ChangeLog-7.php#7.3.22\">ChangeLog</a>.\\n</p>    </div>\\n  \\n  </div>\\n</article><article class=\"newsentry\">\\n  <header class=\"title\">\\n    <time datetime=\"2020-08-21T14:21:41+00:00\">21 Aug 2020</time>\\n    <h2 class=\"newstitle\">\\n      <a href=\"https://www.php.net/archive/2020.php#2020-08-21-1\" id=\"2020-08-21-1\">PHP 8.0.0beta2 Released!</a>\\n    </h2>\\n  </header>\\n  <div class=\"newscontent\">\\n    <div>\\n      <p>\\n        The PHP team is pleased to announce the fifth testing release of PHP 8.0.0, Beta 2.\\n        This continues the PHP 8.0 release cycle, the rough outline of which is specified in the\\n        <a href=\"https://wiki.php.net/todo/php80\">PHP Wiki</a>.\\n      </p>\\n\\n      <p>For source downloads of PHP 8.0.0 Beta 2 please visit the <a href=\"https://downloads.php.net/~pollita/\">download page</a>.</p>\\n\\n      <p>Please carefully test this version and report any issues found in the <a href=\"http://bugs.php.net\">bug reporting system</a>.</p>\\n\\n      <p><b>Please DO NOT use this version in production, it is an early test version.</b></p>\\n\\n      <p>\\n        For more information on the new features and other changes, you can read the\\n        <a href=\"https://github.com/php/php-src/blob/php-8.0.0beta2/NEWS\">NEWS</a> file,\\n        or the <a href=\"https://github.com/php/php-src/blob/php-8.0.0beta2/UPGRADING\">UPGRADING</a>\\n        file for a complete list of upgrading notes. These files can also be found in the release archive.\\n      </p>\\n\\n      <p>The next release will be Beta 3, planned for Sep 3 2020.</p>\\n\\n      <p>The signatures for the release can be found in <a href=\"https://gist.github.com/sgolemon/1694e5313d246eaf203318d516d53fba\">the manifest</a> or on <a href=\"https://qa.php.net/\">the QA site</a>.</p>\\n\\n      <p>Thank you for helping us make PHP better.</p>\\n    </div>\\n  \\n  </div>\\n</article><article class=\"newsentry\">\\n  <header class=\"title\">\\n    <time datetime=\"2020-08-06T10:08:21+00:00\">06 Aug 2020</time>\\n    <h2 class=\"newstitle\">\\n      <a href=\"https://www.php.net/archive/2020.php#2020-08-06-4\" id=\"2020-08-06-4\">PHP 7.4.9 Released!</a>\\n    </h2>\\n  </header>\\n  <div class=\"newscontent\">\\n    <div><p>The PHP development team announces the immediate availability of PHP 7.4.9. This is a bug fix release.</p>\\n\\n<p>All PHP 7.4 users are encouraged to upgrade to this version.</p>\\n\\n<p>For source downloads of PHP 7.4.9 please visit our <a href=\"https://www.php.net/downloads.php\">downloads page</a>,\\nWindows source and binaries can be found on <a href=\"https://windows.php.net/download/\">windows.php.net/download/</a>.\\nThe list of changes is recorded in the <a href=\"https://www.php.net/ChangeLog-7.php#7.4.9\">ChangeLog</a>.\\n</p>    </div>\\n  \\n  </div>\\n</article><article class=\"newsentry\">\\n  <header class=\"title\">\\n    <time datetime=\"2020-08-06T09:13:51+00:00\">06 Aug 2020</time>\\n    <h2 class=\"newstitle\">\\n      <a href=\"https://www.php.net/archive/2020.php#2020-08-06-3\" id=\"2020-08-06-3\">PHP 8.0.0 Beta 1 available for testing</a>\\n    </h2>\\n  </header>\\n  <div class=\"newscontent\">\\n    <div>\\n      <p>\\n        The PHP team is pleased to announce the fourth testing release of PHP 8.0.0, Beta 1.\\n        This continues the PHP 8.0 release cycle, the rough outline of which is specified in the\\n        <a href=\"https://wiki.php.net/todo/php80\">PHP Wiki</a>.\\n      </p>\\n\\n      <p>For source downloads of PHP 8.0.0 Beta 1 please visit the <a href=\"https://downloads.php.net/~carusogabriel\">download page</a>.</p>\\n\\n      <p>Please carefully test this version and report any issues found in the <a href=\"http://bugs.php.net\">bug reporting system</a>.</p>\\n\\n      <p><b>Please DO NOT use this version in production, it is an early test version.</b></p>\\n\\n      <p>\\n        For more information on the new features and other changes, you can read the\\n        <a href=\"https://github.com/php/php-src/blob/php-8.0.0beta1/NEWS\">NEWS</a> file,\\n        or the <a href=\"https://github.com/php/php-src/blob/php-8.0.0beta1/UPGRADING\">UPGRADING</a>\\n        file for a complete list of upgrading notes. These files can also be found in the release archive.\\n      </p>\\n\\n      <p>The next release will be Beta 2, planned for Aug 20 2020.</p>\\n\\n      <p>The signatures for the release can be found in <a href=\"https://gist.github.com/carusogabriel/527685326157fd31bdb6b277cbc0e45e\">the manifest</a> or on <a href=\"https://qa.php.net/\">the QA site</a>.</p>\\n\\n      <p>Thank you for helping us make PHP better.</p>\\n    </div>\\n  \\n  </div>\\n</article><article class=\"newsentry\">\\n  <header class=\"title\">\\n    <time datetime=\"2020-08-06T08:18:53+00:00\">06 Aug 2020</time>\\n    <h2 class=\"newstitle\">\\n      <a href=\"https://www.php.net/archive/2020.php#2020-08-06-2\" id=\"2020-08-06-2\">PHP 7.3.21 Released!</a>\\n    </h2>\\n  </header>\\n  <div class=\"newscontent\">\\n    <div><p>The PHP development team announces the immediate availability of PHP 7.3.21. This is a security release.</p>\\n\\n<p>All PHP 7.3 users are encouraged to upgrade to this version.</p>\\n\\n<p>For source downloads of PHP 7.3.21 please visit our <a href=\"https://www.php.net/downloads.php\">downloads page</a>,\\nWindows source and binaries can be found on <a href=\"https://windows.php.net/download/\">windows.php.net/download/</a>.\\nThe list of changes is recorded in the <a href=\"https://www.php.net/ChangeLog-7.php#7.3.21\">ChangeLog</a>.\\n</p>    </div>\\n  \\n  </div>\\n</article><article class=\"newsentry\">\\n  <header class=\"title\">\\n    <time datetime=\"2020-08-06T07:47:41+00:00\">06 Aug 2020</time>\\n    <h2 class=\"newstitle\">\\n      <a href=\"https://www.php.net/archive/2020.php#2020-08-06-1\" id=\"2020-08-06-1\">PHP 7.2.33 Released!</a>\\n    </h2>\\n  </header>\\n  <div class=\"newscontent\">\\n    <div>\\n     <p>The PHP development team announces the immediate availability of PHP 7.2.33.\\n     This is a security release.</p>\\n\\n     <p>All PHP 7.2 users are encouraged to upgrade to this version.</p>\\n\\n     <p>For source downloads of PHP 7.2.33 please visit our <a href=\"https://www.php.net/downloads.php\">downloads page</a>,\\n     Windows source and binaries can be found on <a href=\"https://windows.php.net/download/\">windows.php.net/download/</a>.\\n     The list of changes is recorded in the <a href=\"https://www.php.net/ChangeLog-7.php#7.2.33\">ChangeLog</a>.\\n     </p>\\n    </div>\\n  \\n  </div>\\n</article><p class=\"archive\"><a href=\"/archive/\">Older News Entries</a></p></div>    </section><!-- layout-content -->\\n    \\n<aside class=\"tips\">\\n    <div class=\"inner\">\\n<div class=\"panel\">  <a href=\"/conferences\" class=\"headline\" title=\"Conferences calling for papers\">Conferences calling for papers</a><div class=\"body\"><ul><li><a href=\\'https://www.php.net/conferences/index.php#id2021-01-23-1\\' title=\\'Dutch PHP Conference 2021\\'>Dutch PHP Conference 2021</a></li></ul></div></div>\\n    <p class=\\'panel\\'><a href=\\'/cal.php\\'>User Group Events</a></p>\\n    <p class=\\'panel\\'><a href=\\'/thanks.php\\'>Special Thanks</a></p>\\n    <p class=\\'panel social-media\\'>\\n      <span class=\\'headline\\'>Social media</span>\\n      <div class=\\'body\\'>\\n        <ul>\\n          <li>\\n            <a href=\"https://twitter.com/official_php\">\\n              <i class=\"icon-twitter\"></i>\\n              @official_php\\n            </a>\\n          </li>\\n        </ul>\\n      </div>\\n    </p>\\n</div>\\n</aside>\\n\\n  </div><!-- layout -->\\n\\n  <footer>\\n    <div class=\"container footer-content\">\\n      <div class=\"row-fluid\">\\n      <ul class=\"footmenu\">\\n        <li><a href=\"/copyright.php\">Copyright &copy; 2001-2021 The PHP Group</a></li>\\n        <li><a href=\"/my.php\">My PHP.net</a></li>\\n        <li><a href=\"/contact.php\">Contact</a></li>\\n        <li><a href=\"/sites.php\">Other PHP.net sites</a></li>\\n        <li><a href=\"/privacy.php\">Privacy policy</a></li>\\n      </ul>\\n      </div>\\n    </div>\\n  </footer>\\n\\n    <div class=\\'elephpants\\'><div class=images></div></div>\\n <!-- External and third party libraries. -->\\n <script src=\"//ajax.googleapis.com/ajax/libs/jquery/1.10.2/jquery.min.js\"></script>\\n<script src=\"/cached.php?t=1421837618&amp;f=/js/ext/modernizr.js\"></script>\\n<script src=\"/cached.php?t=1421837618&amp;f=/js/ext/hogan-2.0.0.min.js\"></script>\\n<script src=\"/cached.php?t=1421837618&amp;f=/js/ext/typeahead.min.js\"></script>\\n<script src=\"/cached.php?t=1421837618&amp;f=/js/ext/mousetrap.min.js\"></script>\\n<script src=\"/cached.php?t=1421837618&amp;f=/js/search.js\"></script>\\n<script src=\"/cached.php?t=1607972402&amp;f=/js/common.js\"></script>\\n\\n<a id=\"toTop\" href=\"javascript:;\"><span id=\"toTopHover\"></span><img width=\"40\" height=\"40\" alt=\"To Top\" src=\"/images/to-top@2x.png\"></a>\\n\\n</body>\\n</html>\\n'\n"
          ],
          "name": "stdout"
        }
      ]
    },
    {
      "cell_type": "code",
      "metadata": {
        "colab": {
          "base_uri": "https://localhost:8080/"
        },
        "id": "_a_oIjCpghXJ",
        "outputId": "b7b364fe-e81f-4c0a-a85d-9457b790ef48"
      },
      "source": [
        "import sklearn\r\n",
        "from sklearn import datasets\r\n",
        "digits = datasets.load_digits()\r\n",
        "print(digits)"
      ],
      "execution_count": 47,
      "outputs": [
        {
          "output_type": "stream",
          "text": [
            "{'data': array([[ 0.,  0.,  5., ...,  0.,  0.,  0.],\n",
            "       [ 0.,  0.,  0., ..., 10.,  0.,  0.],\n",
            "       [ 0.,  0.,  0., ..., 16.,  9.,  0.],\n",
            "       ...,\n",
            "       [ 0.,  0.,  1., ...,  6.,  0.,  0.],\n",
            "       [ 0.,  0.,  2., ..., 12.,  0.,  0.],\n",
            "       [ 0.,  0., 10., ..., 12.,  1.,  0.]]), 'target': array([0, 1, 2, ..., 8, 9, 8]), 'target_names': array([0, 1, 2, 3, 4, 5, 6, 7, 8, 9]), 'images': array([[[ 0.,  0.,  5., ...,  1.,  0.,  0.],\n",
            "        [ 0.,  0., 13., ..., 15.,  5.,  0.],\n",
            "        [ 0.,  3., 15., ..., 11.,  8.,  0.],\n",
            "        ...,\n",
            "        [ 0.,  4., 11., ..., 12.,  7.,  0.],\n",
            "        [ 0.,  2., 14., ..., 12.,  0.,  0.],\n",
            "        [ 0.,  0.,  6., ...,  0.,  0.,  0.]],\n",
            "\n",
            "       [[ 0.,  0.,  0., ...,  5.,  0.,  0.],\n",
            "        [ 0.,  0.,  0., ...,  9.,  0.,  0.],\n",
            "        [ 0.,  0.,  3., ...,  6.,  0.,  0.],\n",
            "        ...,\n",
            "        [ 0.,  0.,  1., ...,  6.,  0.,  0.],\n",
            "        [ 0.,  0.,  1., ...,  6.,  0.,  0.],\n",
            "        [ 0.,  0.,  0., ..., 10.,  0.,  0.]],\n",
            "\n",
            "       [[ 0.,  0.,  0., ..., 12.,  0.,  0.],\n",
            "        [ 0.,  0.,  3., ..., 14.,  0.,  0.],\n",
            "        [ 0.,  0.,  8., ..., 16.,  0.,  0.],\n",
            "        ...,\n",
            "        [ 0.,  9., 16., ...,  0.,  0.,  0.],\n",
            "        [ 0.,  3., 13., ..., 11.,  5.,  0.],\n",
            "        [ 0.,  0.,  0., ..., 16.,  9.,  0.]],\n",
            "\n",
            "       ...,\n",
            "\n",
            "       [[ 0.,  0.,  1., ...,  1.,  0.,  0.],\n",
            "        [ 0.,  0., 13., ...,  2.,  1.,  0.],\n",
            "        [ 0.,  0., 16., ..., 16.,  5.,  0.],\n",
            "        ...,\n",
            "        [ 0.,  0., 16., ..., 15.,  0.,  0.],\n",
            "        [ 0.,  0., 15., ..., 16.,  0.,  0.],\n",
            "        [ 0.,  0.,  2., ...,  6.,  0.,  0.]],\n",
            "\n",
            "       [[ 0.,  0.,  2., ...,  0.,  0.,  0.],\n",
            "        [ 0.,  0., 14., ..., 15.,  1.,  0.],\n",
            "        [ 0.,  4., 16., ..., 16.,  7.,  0.],\n",
            "        ...,\n",
            "        [ 0.,  0.,  0., ..., 16.,  2.,  0.],\n",
            "        [ 0.,  0.,  4., ..., 16.,  2.,  0.],\n",
            "        [ 0.,  0.,  5., ..., 12.,  0.,  0.]],\n",
            "\n",
            "       [[ 0.,  0., 10., ...,  1.,  0.,  0.],\n",
            "        [ 0.,  2., 16., ...,  1.,  0.,  0.],\n",
            "        [ 0.,  0., 15., ..., 15.,  0.,  0.],\n",
            "        ...,\n",
            "        [ 0.,  4., 16., ..., 16.,  6.,  0.],\n",
            "        [ 0.,  8., 16., ..., 16.,  8.,  0.],\n",
            "        [ 0.,  1.,  8., ..., 12.,  1.,  0.]]]), 'DESCR': \".. _digits_dataset:\\n\\nOptical recognition of handwritten digits dataset\\n--------------------------------------------------\\n\\n**Data Set Characteristics:**\\n\\n    :Number of Instances: 5620\\n    :Number of Attributes: 64\\n    :Attribute Information: 8x8 image of integer pixels in the range 0..16.\\n    :Missing Attribute Values: None\\n    :Creator: E. Alpaydin (alpaydin '@' boun.edu.tr)\\n    :Date: July; 1998\\n\\nThis is a copy of the test set of the UCI ML hand-written digits datasets\\nhttps://archive.ics.uci.edu/ml/datasets/Optical+Recognition+of+Handwritten+Digits\\n\\nThe data set contains images of hand-written digits: 10 classes where\\neach class refers to a digit.\\n\\nPreprocessing programs made available by NIST were used to extract\\nnormalized bitmaps of handwritten digits from a preprinted form. From a\\ntotal of 43 people, 30 contributed to the training set and different 13\\nto the test set. 32x32 bitmaps are divided into nonoverlapping blocks of\\n4x4 and the number of on pixels are counted in each block. This generates\\nan input matrix of 8x8 where each element is an integer in the range\\n0..16. This reduces dimensionality and gives invariance to small\\ndistortions.\\n\\nFor info on NIST preprocessing routines, see M. D. Garris, J. L. Blue, G.\\nT. Candela, D. L. Dimmick, J. Geist, P. J. Grother, S. A. Janet, and C.\\nL. Wilson, NIST Form-Based Handprint Recognition System, NISTIR 5469,\\n1994.\\n\\n.. topic:: References\\n\\n  - C. Kaynak (1995) Methods of Combining Multiple Classifiers and Their\\n    Applications to Handwritten Digit Recognition, MSc Thesis, Institute of\\n    Graduate Studies in Science and Engineering, Bogazici University.\\n  - E. Alpaydin, C. Kaynak (1998) Cascading Classifiers, Kybernetika.\\n  - Ken Tang and Ponnuthurai N. Suganthan and Xi Yao and A. Kai Qin.\\n    Linear dimensionalityreduction using relevance weighted LDA. School of\\n    Electrical and Electronic Engineering Nanyang Technological University.\\n    2005.\\n  - Claudio Gentile. A New Approximate Maximal Margin Classification\\n    Algorithm. NIPS. 2000.\"}\n"
          ],
          "name": "stdout"
        }
      ]
    }
  ]
}