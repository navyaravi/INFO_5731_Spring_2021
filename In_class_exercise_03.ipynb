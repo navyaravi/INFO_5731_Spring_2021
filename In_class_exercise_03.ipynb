{
  "nbformat": 4,
  "nbformat_minor": 0,
  "metadata": {
    "kernelspec": {
      "display_name": "Python 3",
      "language": "python",
      "name": "python3"
    },
    "language_info": {
      "codemirror_mode": {
        "name": "ipython",
        "version": 3
      },
      "file_extension": ".py",
      "mimetype": "text/x-python",
      "name": "python",
      "nbconvert_exporter": "python",
      "pygments_lexer": "ipython3",
      "version": "3.7.4"
    },
    "colab": {
      "name": "In-class-exercise-03.ipynb",
      "provenance": [],
      "include_colab_link": true
    }
  },
  "cells": [
    {
      "cell_type": "markdown",
      "metadata": {
        "id": "view-in-github",
        "colab_type": "text"
      },
      "source": [
        "<a href=\"https://colab.research.google.com/github/navyaravi/INFO_5731_Spring_2021/blob/main/In_class_exercise_03.ipynb\" target=\"_parent\"><img src=\"https://colab.research.google.com/assets/colab-badge.svg\" alt=\"Open In Colab\"/></a>"
      ]
    },
    {
      "cell_type": "markdown",
      "metadata": {
        "id": "stw3MBsoB6Gx"
      },
      "source": [
        "## The third In-class-exercise (9/16/2020, 20 points in total)"
      ]
    },
    {
      "cell_type": "markdown",
      "metadata": {
        "id": "CnNWb2m4B6G0"
      },
      "source": [
        "The purpose of this exercise is to under users' information needs, then collect the data for analysis."
      ]
    },
    {
      "cell_type": "markdown",
      "metadata": {
        "id": "VGe_uFVZB6G2"
      },
      "source": [
        "Question 1 (8 points): Describe an interesting research question (or practical question) you have in mind, what kind of data should be collected to answer the question(s)? How many data needed for the analysis? The detail steps for collecting and save the data. "
      ]
    },
    {
      "cell_type": "code",
      "metadata": {
        "id": "0RGGnQ0c2iF0"
      },
      "source": [
        ""
      ],
      "execution_count": null,
      "outputs": []
    },
    {
      "cell_type": "markdown",
      "metadata": {
        "id": "MtcZOWGxxEGb"
      },
      "source": [
        "Research question - \r\n",
        "1.What is the review of Realme 7 customer review for mobile phone . Whether it has positive reviews or negative reviews.\r\n",
        "Data required for this research is reviews of the customer who already bought the phone. Ecommerce website contains the reviews of the product. I have choosen the flipkart to collect the reviews of the RealMe7 Mobile phone. We can analyze the reviews by considering the words in them that is whether the user customer has written in a positive way or negative way. We need minimum 500 reviews to get nearly accurate results.\r\n",
        "\r\n",
        "Steps for Collecting and Saving Data:\r\n",
        "1. I have used the BeautifulSoup library to extract the information from the website.\r\n",
        "2. I have extracted the reviews by using the classname and then appended to the empty list.\r\n",
        "3. To extract 500 reviews I have itearted 50 times as each page contains 10 reviews and I have generated the url dynamically while iterating\r\n",
        "Then created a dataframe form the list and then converted dataframe to csv"
      ]
    },
    {
      "cell_type": "markdown",
      "metadata": {
        "id": "Lt9b0MkhB6G3"
      },
      "source": [
        "Question 2 (12 points): Write python code to collect 500 items of the data you plan to collect above."
      ]
    },
    {
      "cell_type": "code",
      "metadata": {
        "colab": {
          "base_uri": "https://localhost:8080/",
          "height": 436
        },
        "id": "30Ca6nRHB6G4",
        "outputId": "6e876695-7d64-473d-d905-414325d519df"
      },
      "source": [
        "# You code here (Please add comments in the code):\n",
        "import requests\n",
        "from bs4 import BeautifulSoup\n",
        "import pandas as pd\n",
        "main_text = [] # List to store Review headings\n",
        "sub_text =[] #List to store reviews\n",
        "for number in range(60):\n",
        "  link = \"https://www.flipkart.com/realme-7-mist-white-64-gb/product-reviews/itme55d08631f19b?pid=MOBFUYUNDSH7NMVT&lid=LSTMOBFUYUNDSH7NMVTWLABPJ&marketplace=FLIPKART&page=\" + str(number) # Generating link dynamically\n",
        "  page = requests.get(link) # Accessing the webpage\n",
        "  soup = BeautifulSoup(page.text, 'html.parser')\n",
        "  main_reviews = soup.find_all(class_='_2-N8zT') # Getting the Review Heading by using the class name\n",
        "  text_reviews = soup.find_all(class_='t-ZTKy') # Getting the full reviews by using the class name\n",
        "  for ele, sub_ele in zip(main_reviews, text_reviews) : # Iterating through the list\n",
        "      main_text.append(ele.text) #Appending to empty list\n",
        "      sub_text.append(sub_ele.text)\n",
        "df = pd.DataFrame(list(zip(main_text, sub_text)), columns =['Glimpse of Review', 'Full Review'])  # Creating Dataframe\n",
        "print(\"Length of data frame is {0}\".format(len(df)))\n",
        "df\n",
        "\n"
      ],
      "execution_count": 36,
      "outputs": [
        {
          "output_type": "stream",
          "text": [
            "Length of data frame is 531\n"
          ],
          "name": "stdout"
        },
        {
          "output_type": "execute_result",
          "data": {
            "text/html": [
              "<div>\n",
              "<style scoped>\n",
              "    .dataframe tbody tr th:only-of-type {\n",
              "        vertical-align: middle;\n",
              "    }\n",
              "\n",
              "    .dataframe tbody tr th {\n",
              "        vertical-align: top;\n",
              "    }\n",
              "\n",
              "    .dataframe thead th {\n",
              "        text-align: right;\n",
              "    }\n",
              "</style>\n",
              "<table border=\"1\" class=\"dataframe\">\n",
              "  <thead>\n",
              "    <tr style=\"text-align: right;\">\n",
              "      <th></th>\n",
              "      <th>Glimpse of Review</th>\n",
              "      <th>Full Review</th>\n",
              "    </tr>\n",
              "  </thead>\n",
              "  <tbody>\n",
              "    <tr>\n",
              "      <th>0</th>\n",
              "      <td>Wonderful</td>\n",
              "      <td>When we talk about a brand loyal person....so ...</td>\n",
              "    </tr>\n",
              "    <tr>\n",
              "      <th>1</th>\n",
              "      <td>Worth the money</td>\n",
              "      <td>Writting this after using for 1 month.Pros.1. ...</td>\n",
              "    </tr>\n",
              "    <tr>\n",
              "      <th>2</th>\n",
              "      <td>Mind-blowing purchase</td>\n",
              "      <td>Best phone in the range Camera is better ✔️Bat...</td>\n",
              "    </tr>\n",
              "    <tr>\n",
              "      <th>3</th>\n",
              "      <td>Must buy!</td>\n",
              "      <td>best camera and display and best performance i...</td>\n",
              "    </tr>\n",
              "    <tr>\n",
              "      <th>4</th>\n",
              "      <td>Super!</td>\n",
              "      <td>Realme7 It's a branded mobile To value of mone...</td>\n",
              "    </tr>\n",
              "    <tr>\n",
              "      <th>...</th>\n",
              "      <td>...</td>\n",
              "      <td>...</td>\n",
              "    </tr>\n",
              "    <tr>\n",
              "      <th>526</th>\n",
              "      <td>Good quality product</td>\n",
              "      <td>Good mobile thank you flip cart I am so happy😊...</td>\n",
              "    </tr>\n",
              "    <tr>\n",
              "      <th>527</th>\n",
              "      <td>Must buy!</td>\n",
              "      <td>China go backREAD MORE</td>\n",
              "    </tr>\n",
              "    <tr>\n",
              "      <th>528</th>\n",
              "      <td>Nice product</td>\n",
              "      <td>I m impress fast dileveryREAD MORE</td>\n",
              "    </tr>\n",
              "    <tr>\n",
              "      <th>529</th>\n",
              "      <td>Brilliant</td>\n",
              "      <td>GoodREAD MORE</td>\n",
              "    </tr>\n",
              "    <tr>\n",
              "      <th>530</th>\n",
              "      <td>Value-for-money</td>\n",
              "      <td>Value buy... I bought this @12100 which makes ...</td>\n",
              "    </tr>\n",
              "  </tbody>\n",
              "</table>\n",
              "<p>531 rows × 2 columns</p>\n",
              "</div>"
            ],
            "text/plain": [
              "         Glimpse of Review                                        Full Review\n",
              "0                Wonderful  When we talk about a brand loyal person....so ...\n",
              "1          Worth the money  Writting this after using for 1 month.Pros.1. ...\n",
              "2    Mind-blowing purchase  Best phone in the range Camera is better ✔️Bat...\n",
              "3                Must buy!  best camera and display and best performance i...\n",
              "4                   Super!  Realme7 It's a branded mobile To value of mone...\n",
              "..                     ...                                                ...\n",
              "526   Good quality product  Good mobile thank you flip cart I am so happy😊...\n",
              "527              Must buy!                             China go backREAD MORE\n",
              "528           Nice product                 I m impress fast dileveryREAD MORE\n",
              "529              Brilliant                                      GoodREAD MORE\n",
              "530        Value-for-money  Value buy... I bought this @12100 which makes ...\n",
              "\n",
              "[531 rows x 2 columns]"
            ]
          },
          "metadata": {
            "tags": []
          },
          "execution_count": 36
        }
      ]
    },
    {
      "cell_type": "code",
      "metadata": {
        "id": "0CWN9rQh6mIY"
      },
      "source": [
        "df.to_csv('data.csv', index=False) #Converting to csv file from dataframe"
      ],
      "execution_count": 37,
      "outputs": []
    }
  ]
}