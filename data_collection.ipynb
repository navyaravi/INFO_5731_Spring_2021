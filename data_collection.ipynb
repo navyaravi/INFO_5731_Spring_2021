{
  "nbformat": 4,
  "nbformat_minor": 0,
  "metadata": {
    "colab": {
      "name": "Untitled",
      "provenance": [],
      "authorship_tag": "ABX9TyO11NHFPpNCImIobnoIKST0",
      "include_colab_link": true
    },
    "kernelspec": {
      "name": "python3",
      "display_name": "Python 3"
    }
  },
  "cells": [
    {
      "cell_type": "markdown",
      "metadata": {
        "id": "view-in-github",
        "colab_type": "text"
      },
      "source": [
        "<a href=\"https://colab.research.google.com/github/navyaravi/INFO_5731_Spring_2021/blob/main/data_collection.ipynb\" target=\"_parent\"><img src=\"https://colab.research.google.com/assets/colab-badge.svg\" alt=\"Open In Colab\"/></a>"
      ]
    },
    {
      "cell_type": "markdown",
      "metadata": {
        "id": "VsBfdvXdFqzf"
      },
      "source": [
        "**Collecting dataset from Twitter**"
      ]
    },
    {
      "cell_type": "code",
      "metadata": {
        "id": "3xoJWjW-Fjzq"
      },
      "source": [
        "import os\n",
        "import tweepy,json\n",
        "import pandas as pd"
      ],
      "execution_count": 5,
      "outputs": []
    },
    {
      "cell_type": "code",
      "metadata": {
        "id": "4Qhy9qRaF1zg"
      },
      "source": [
        "consumer_key= 'XqNE2nPoBLitdSfOzSOwagBP5'\n",
        "consumer_secret= 'gOAMKL8MvQt3SVvoFEg7ER8BTB4LYWvJZKykCkketKc7pRg7QE'\n",
        "access_token= '1369446652843618309-tHN5afHW5fNwqKcskcjRS4dLAFYpV3'\n",
        "access_token_secret= 'jK2MnOJahkb2qSrdAPViAgk5YmG8QldW6t4w5DnguKZnI'\n",
        "\n",
        "auth = tweepy.OAuthHandler(consumer_key, consumer_secret)\n",
        "auth.set_access_token(access_token, access_token_secret)\n",
        "api = tweepy.API(auth, wait_on_rate_limit=True)\n",
        "\n"
      ],
      "execution_count": 6,
      "outputs": []
    },
    {
      "cell_type": "code",
      "metadata": {
        "id": "fqWTtxi-G5xj"
      },
      "source": [
        "tweet_list=[]\n",
        "class MyStreamListener(tweepy.StreamListener):\n",
        "    def __init__(self,api=None):\n",
        "        super(MyStreamListener,self).__init__()\n",
        "        self.num_tweets=0\n",
        "        self.file=open(\"tweet.txt\",\"w\")\n",
        "    def on_status(self,status):\n",
        "        tweet=status._json\n",
        "        self.file.write(json.dumps(tweet)+ '\\n')\n",
        "        tweet_list.append(status)\n",
        "        self.num_tweets+=1\n",
        "        if self.num_tweets<1000:\n",
        "            return True\n",
        "        else:\n",
        "            return False\n",
        "        self.file.close()"
      ],
      "execution_count": 7,
      "outputs": []
    },
    {
      "cell_type": "markdown",
      "metadata": {
        "id": "IljdeMkzHe0R"
      },
      "source": [
        "**create a filter that will extract tweets based on certain words**"
      ]
    },
    {
      "cell_type": "code",
      "metadata": {
        "id": "UMnY09zsHgZ2"
      },
      "source": [
        "#create streaming object and authenticate\n",
        "l = MyStreamListener()\n",
        "stream =tweepy.Stream(auth,l)\n",
        "#this line filters twiiter streams to capture data by keywords\n",
        "stream.filter(track=['covid','corona','covid19','coronavirus',\n",
        "'covidvaccination','vaccination','vaccine'])"
      ],
      "execution_count": 8,
      "outputs": []
    },
    {
      "cell_type": "code",
      "metadata": {
        "colab": {
          "base_uri": "https://localhost:8080/"
        },
        "id": "K0kb08DUHzRA",
        "outputId": "68e31013-bc78-45a5-da01-98856f45bbac"
      },
      "source": [
        "tweets_data_path='tweet.txt'\n",
        "tweets_data=[]\n",
        "tweets_file=open(tweets_data_path,\"r\")\n",
        "#read in tweets and store on list\n",
        "for line in tweets_file:\n",
        "    tweet=json.loads(line)\n",
        "    tweets_data.append(tweet)\n",
        "tweets_file.close()\n",
        "print(tweets_data[0])"
      ],
      "execution_count": 10,
      "outputs": [
        {
          "output_type": "stream",
          "text": [
            "{'created_at': 'Tue Mar 23 17:25:15 +0000 2021', 'id': 1374411935668572168, 'id_str': '1374411935668572168', 'text': 'RT @MadyWaterer: @TheSun Never seen such a desperate push on vaccinations for a virus that only affects 0.3% of the population and mainly o…', 'source': '<a href=\"https://mobile.twitter.com\" rel=\"nofollow\">Twitter Web App</a>', 'truncated': False, 'in_reply_to_status_id': None, 'in_reply_to_status_id_str': None, 'in_reply_to_user_id': None, 'in_reply_to_user_id_str': None, 'in_reply_to_screen_name': None, 'user': {'id': 1325504466469138432, 'id_str': '1325504466469138432', 'name': 'Margo', 'screen_name': 'Margo87834000', 'location': None, 'url': None, 'description': None, 'translator_type': 'none', 'protected': False, 'verified': False, 'followers_count': 129, 'friends_count': 52, 'listed_count': 0, 'favourites_count': 38496, 'statuses_count': 12890, 'created_at': 'Sun Nov 08 18:24:49 +0000 2020', 'utc_offset': None, 'time_zone': None, 'geo_enabled': False, 'lang': None, 'contributors_enabled': False, 'is_translator': False, 'profile_background_color': 'F5F8FA', 'profile_background_image_url': '', 'profile_background_image_url_https': '', 'profile_background_tile': False, 'profile_link_color': '1DA1F2', 'profile_sidebar_border_color': 'C0DEED', 'profile_sidebar_fill_color': 'DDEEF6', 'profile_text_color': '333333', 'profile_use_background_image': True, 'profile_image_url': 'http://pbs.twimg.com/profile_images/1325504728105701376/LttFF7cJ_normal.jpg', 'profile_image_url_https': 'https://pbs.twimg.com/profile_images/1325504728105701376/LttFF7cJ_normal.jpg', 'default_profile': True, 'default_profile_image': False, 'following': None, 'follow_request_sent': None, 'notifications': None}, 'geo': None, 'coordinates': None, 'place': None, 'contributors': None, 'retweeted_status': {'created_at': 'Tue Mar 23 15:52:14 +0000 2021', 'id': 1374388528067399693, 'id_str': '1374388528067399693', 'text': '@TheSun Never seen such a desperate push on vaccinations for a virus that only affects 0.3% of the population and m… https://t.co/h27UH8PbcV', 'display_text_range': [8, 140], 'source': '<a href=\"http://twitter.com/download/iphone\" rel=\"nofollow\">Twitter for iPhone</a>', 'truncated': True, 'in_reply_to_status_id': 1374345400455458816, 'in_reply_to_status_id_str': '1374345400455458816', 'in_reply_to_user_id': 34655603, 'in_reply_to_user_id_str': '34655603', 'in_reply_to_screen_name': 'TheSun', 'user': {'id': 2504143856, 'id_str': '2504143856', 'name': 'maddie #KBF', 'screen_name': 'MadyWaterer', 'location': None, 'url': None, 'description': 'Interested in politics worldwide but disgusted at media coverage in UK. Want news not opinion/agenda', 'translator_type': 'none', 'protected': False, 'verified': False, 'followers_count': 5929, 'friends_count': 2991, 'listed_count': 53, 'favourites_count': 87790, 'statuses_count': 128672, 'created_at': 'Sun May 18 10:54:04 +0000 2014', 'utc_offset': None, 'time_zone': None, 'geo_enabled': True, 'lang': None, 'contributors_enabled': False, 'is_translator': False, 'profile_background_color': 'C0DEED', 'profile_background_image_url': 'http://abs.twimg.com/images/themes/theme1/bg.png', 'profile_background_image_url_https': 'https://abs.twimg.com/images/themes/theme1/bg.png', 'profile_background_tile': False, 'profile_link_color': '1DA1F2', 'profile_sidebar_border_color': 'C0DEED', 'profile_sidebar_fill_color': 'DDEEF6', 'profile_text_color': '333333', 'profile_use_background_image': True, 'profile_image_url': 'http://pbs.twimg.com/profile_images/754266960712634368/7qOMbQMj_normal.jpg', 'profile_image_url_https': 'https://pbs.twimg.com/profile_images/754266960712634368/7qOMbQMj_normal.jpg', 'default_profile': True, 'default_profile_image': False, 'following': None, 'follow_request_sent': None, 'notifications': None}, 'geo': None, 'coordinates': None, 'place': None, 'contributors': None, 'is_quote_status': False, 'extended_tweet': {'full_text': '@TheSun Never seen such a desperate push on vaccinations for a virus that only affects 0.3% of the population and mainly over 80’s.\\n120,000 deaths (questionable from or with Covid) out of a population of 68 million.\\nTotally disproportionate reaction! \\n600,000 all cause deaths per year!', 'display_text_range': [8, 286], 'entities': {'hashtags': [], 'urls': [], 'user_mentions': [{'screen_name': 'TheSun', 'name': 'The Sun', 'id': 34655603, 'id_str': '34655603', 'indices': [0, 7]}], 'symbols': []}}, 'quote_count': 0, 'reply_count': 6, 'retweet_count': 22, 'favorite_count': 108, 'entities': {'hashtags': [], 'urls': [{'url': 'https://t.co/h27UH8PbcV', 'expanded_url': 'https://twitter.com/i/web/status/1374388528067399693', 'display_url': 'twitter.com/i/web/status/1…', 'indices': [117, 140]}], 'user_mentions': [{'screen_name': 'TheSun', 'name': 'The Sun', 'id': 34655603, 'id_str': '34655603', 'indices': [0, 7]}], 'symbols': []}, 'favorited': False, 'retweeted': False, 'filter_level': 'low', 'lang': 'en'}, 'is_quote_status': False, 'quote_count': 0, 'reply_count': 0, 'retweet_count': 0, 'favorite_count': 0, 'entities': {'hashtags': [], 'urls': [], 'user_mentions': [{'screen_name': 'MadyWaterer', 'name': 'maddie #KBF', 'id': 2504143856, 'id_str': '2504143856', 'indices': [3, 15]}, {'screen_name': 'TheSun', 'name': 'The Sun', 'id': 34655603, 'id_str': '34655603', 'indices': [17, 24]}], 'symbols': []}, 'favorited': False, 'retweeted': False, 'filter_level': 'low', 'lang': 'en', 'timestamp_ms': '1616520315459'}\n"
          ],
          "name": "stdout"
        }
      ]
    },
    {
      "cell_type": "markdown",
      "metadata": {
        "id": "szeCnHORMOic"
      },
      "source": [
        "**Data Cleaning**"
      ]
    },
    {
      "cell_type": "code",
      "metadata": {
        "id": "uLHLZvHBJ18_"
      },
      "source": [
        " from nltk import word_tokenize\n",
        "from nltk.corpus import wordnet\n",
        "from nltk.corpus import words\n",
        "from nltk.tokenize import sent_tokenize, word_tokenize\n",
        "from nltk import pos_tag, pos_tag_sents\n",
        "\n"
      ],
      "execution_count": 12,
      "outputs": []
    },
    {
      "cell_type": "code",
      "metadata": {
        "colab": {
          "base_uri": "https://localhost:8080/",
          "height": 129
        },
        "id": "raDL4oqLa9SV",
        "outputId": "0854d659-4a1a-41a2-ddeb-7209593bb25c"
      },
      "source": [
        "class listener(StreamListener):\n",
        "  def on_data(self,data):\n",
        "    try:\n",
        "      tweet = data.split(',\"text\":\"')[1].split('\",\"source')[0]\n",
        "      print(tweet)\n",
        "      return true\n",
        "\n"
      ],
      "execution_count": 16,
      "outputs": [
        {
          "output_type": "error",
          "ename": "SyntaxError",
          "evalue": "ignored",
          "traceback": [
            "\u001b[0;36m  File \u001b[0;32m\"<ipython-input-16-62dc1efb07cf>\"\u001b[0;36m, line \u001b[0;32m7\u001b[0m\n\u001b[0;31m    \u001b[0m\n\u001b[0m    ^\u001b[0m\n\u001b[0;31mSyntaxError\u001b[0m\u001b[0;31m:\u001b[0m unexpected EOF while parsing\n"
          ]
        }
      ]
    }
  ]
}