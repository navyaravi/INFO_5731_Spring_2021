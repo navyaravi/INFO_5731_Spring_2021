{
  "nbformat": 4,
  "nbformat_minor": 0,
  "metadata": {
    "colab": {
      "name": "Untitled7.ipynb",
      "provenance": [],
      "authorship_tag": "ABX9TyNCWJfd1zQ6W5QSpakI0nsg",
      "include_colab_link": true
    },
    "kernelspec": {
      "name": "python3",
      "display_name": "Python 3"
    }
  },
  "cells": [
    {
      "cell_type": "markdown",
      "metadata": {
        "id": "view-in-github",
        "colab_type": "text"
      },
      "source": [
        "<a href=\"https://colab.research.google.com/github/navyaravi/INFO_5731_Spring_2021/blob/main/in-class_exercise-05.ipynb\" target=\"_parent\"><img src=\"https://colab.research.google.com/assets/colab-badge.svg\" alt=\"Open In Colab\"/></a>"
      ]
    },
    {
      "cell_type": "code",
      "metadata": {
        "colab": {
          "base_uri": "https://localhost:8080/",
          "height": 248
        },
        "id": "BmGAYOsVR8Yv",
        "outputId": "71b55d7f-039f-4953-e522-70c1749e919c"
      },
      "source": [
        "from bs4 import BeautifulSoup\r\n",
        "import pandas as pd\r\n",
        "main_text = [] # List to store Review headings\r\n",
        "sub_text =[] #List to store reviews\r\n",
        "for number in range(52):\r\n",
        "  link = \"https://www.flipkart.com/nokia-139cm-55-inch-ultra-hd-4k-led-smart-android-tv-sound-jbl/product-reviews/itmffvfvyztsmfmq?pid=TVSFFVFVJEGZ3R5H&lid=LSTTVSFFVFVJEGZ3R5HW9DJ5W&marketplace=FLIPKART&page=\" + str(number) # Generating link dynamically\r\n",
        "  page = requests.get(link) # Accessing the webpage\r\n",
        "  soup = BeautifulSoup(page.text, 'html.parser')\r\n",
        "  main_reviews = soup.find_all(class_='_2xg6Ul') # Getting the Review Heading by using the class name\r\n",
        "  text_reviews = soup.find_all(class_='qwjRop') # Getting the full reviews by using the class name\r\n",
        "  for ele, sub_ele in zip(main_reviews, text_reviews) : # Iterating through the list\r\n",
        "      main_text.append(ele.text) #Appending to empty list\r\n",
        "      sub_text.append(sub_ele.text)\r\n",
        "df = pd.DataFrame(list(zip(main_text, sub_text)), columns =['Glimpse of Review', 'Full Review'])  # Creating Dataframe\r\n",
        "print(\"Length of data frame is {0}\".format(len(df)))\r\n",
        "df"
      ],
      "execution_count": 1,
      "outputs": [
        {
          "output_type": "error",
          "ename": "NameError",
          "evalue": "ignored",
          "traceback": [
            "\u001b[0;31m---------------------------------------------------------------------------\u001b[0m",
            "\u001b[0;31mNameError\u001b[0m                                 Traceback (most recent call last)",
            "\u001b[0;32m<ipython-input-1-0f39f966fc12>\u001b[0m in \u001b[0;36m<module>\u001b[0;34m()\u001b[0m\n\u001b[1;32m      5\u001b[0m \u001b[0;32mfor\u001b[0m \u001b[0mnumber\u001b[0m \u001b[0;32min\u001b[0m \u001b[0mrange\u001b[0m\u001b[0;34m(\u001b[0m\u001b[0;36m52\u001b[0m\u001b[0;34m)\u001b[0m\u001b[0;34m:\u001b[0m\u001b[0;34m\u001b[0m\u001b[0;34m\u001b[0m\u001b[0m\n\u001b[1;32m      6\u001b[0m   \u001b[0mlink\u001b[0m \u001b[0;34m=\u001b[0m \u001b[0;34m\"https://www.flipkart.com/nokia-139cm-55-inch-ultra-hd-4k-led-smart-android-tv-sound-jbl/product-reviews/itmffvfvyztsmfmq?pid=TVSFFVFVJEGZ3R5H&lid=LSTTVSFFVFVJEGZ3R5HW9DJ5W&marketplace=FLIPKART&page=\"\u001b[0m \u001b[0;34m+\u001b[0m \u001b[0mstr\u001b[0m\u001b[0;34m(\u001b[0m\u001b[0mnumber\u001b[0m\u001b[0;34m)\u001b[0m \u001b[0;31m# Generating link dynamically\u001b[0m\u001b[0;34m\u001b[0m\u001b[0;34m\u001b[0m\u001b[0m\n\u001b[0;32m----> 7\u001b[0;31m   \u001b[0mpage\u001b[0m \u001b[0;34m=\u001b[0m \u001b[0mrequests\u001b[0m\u001b[0;34m.\u001b[0m\u001b[0mget\u001b[0m\u001b[0;34m(\u001b[0m\u001b[0mlink\u001b[0m\u001b[0;34m)\u001b[0m \u001b[0;31m# Accessing the webpage\u001b[0m\u001b[0;34m\u001b[0m\u001b[0;34m\u001b[0m\u001b[0m\n\u001b[0m\u001b[1;32m      8\u001b[0m   \u001b[0msoup\u001b[0m \u001b[0;34m=\u001b[0m \u001b[0mBeautifulSoup\u001b[0m\u001b[0;34m(\u001b[0m\u001b[0mpage\u001b[0m\u001b[0;34m.\u001b[0m\u001b[0mtext\u001b[0m\u001b[0;34m,\u001b[0m \u001b[0;34m'html.parser'\u001b[0m\u001b[0;34m)\u001b[0m\u001b[0;34m\u001b[0m\u001b[0;34m\u001b[0m\u001b[0m\n\u001b[1;32m      9\u001b[0m   \u001b[0mmain_reviews\u001b[0m \u001b[0;34m=\u001b[0m \u001b[0msoup\u001b[0m\u001b[0;34m.\u001b[0m\u001b[0mfind_all\u001b[0m\u001b[0;34m(\u001b[0m\u001b[0mclass_\u001b[0m\u001b[0;34m=\u001b[0m\u001b[0;34m'_2xg6Ul'\u001b[0m\u001b[0;34m)\u001b[0m \u001b[0;31m# Getting the Review Heading by using the class name\u001b[0m\u001b[0;34m\u001b[0m\u001b[0;34m\u001b[0m\u001b[0m\n",
            "\u001b[0;31mNameError\u001b[0m: name 'requests' is not defined"
          ]
        }
      ]
    }
  ]
}