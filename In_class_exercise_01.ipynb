{
  "nbformat": 4,
  "nbformat_minor": 0,
  "metadata": {
    "colab": {
      "name": "In_class_exercise_01.ipynb",
      "provenance": [],
      "collapsed_sections": [],
      "include_colab_link": true
    },
    "kernelspec": {
      "display_name": "Python 3",
      "language": "python",
      "name": "python3"
    },
    "language_info": {
      "codemirror_mode": {
        "name": "ipython",
        "version": 3
      },
      "file_extension": ".py",
      "mimetype": "text/x-python",
      "name": "python",
      "nbconvert_exporter": "python",
      "pygments_lexer": "ipython3",
      "version": "3.7.4"
    }
  },
  "cells": [
    {
      "cell_type": "markdown",
      "metadata": {
        "id": "view-in-github",
        "colab_type": "text"
      },
      "source": [
        "<a href=\"https://colab.research.google.com/github/navyaravi/INFO_5731_Spring_2021/blob/main/In_class_exercise_01.ipynb\" target=\"_parent\"><img src=\"https://colab.research.google.com/assets/colab-badge.svg\" alt=\"Open In Colab\"/></a>"
      ]
    },
    {
      "cell_type": "markdown",
      "metadata": {
        "id": "DymRJbxDBCnf"
      },
      "source": [
        "# **The first In-class-exercise (9/2/2020, 20 points in total)**"
      ]
    },
    {
      "cell_type": "markdown",
      "metadata": {
        "id": "03jb4GZsBkBS"
      },
      "source": [
        "(1) Write a Python program to calculate the length of a string. (2 points)"
      ]
    },
    {
      "cell_type": "code",
      "metadata": {
        "colab": {
          "base_uri": "https://localhost:8080/"
        },
        "id": "YaGLbSHHB8Ej",
        "outputId": "fec99086-7fbe-4e2d-98d1-80b572fdaf8c"
      },
      "source": [
        "a=\"My name is Navya\"\n",
        "print(len(a))\n"
      ],
      "execution_count": 2,
      "outputs": [
        {
          "output_type": "stream",
          "text": [
            "16\n"
          ],
          "name": "stdout"
        }
      ]
    },
    {
      "cell_type": "markdown",
      "metadata": {
        "id": "jJDe71iLB616"
      },
      "source": [
        "(2) Write a Python program to count the number of characters in a string. (2 points)\n",
        "\n",
        "Sample String : 'google.com‘, \n",
        "\n",
        "Expected Result : {'o': 3, 'g': 2, '.': 1, 'e': 1, 'l': 1, 'm': 1, 'c': 1}"
      ]
    },
    {
      "cell_type": "code",
      "metadata": {
        "colab": {
          "base_uri": "https://localhost:8080/"
        },
        "id": "MtKskTzbCLaU",
        "outputId": "2faeb20f-2c8b-4255-fabc-30dc06028755"
      },
      "source": [
        "def character_count(str1):\n",
        "  dict = {}\n",
        "  for n in str1:\n",
        "    keys=dict.keys()\n",
        "    if n in keys:\n",
        "      dict[n] += 1\n",
        "    else:\n",
        "      dict[n] = 1\n",
        "  return dict\n",
        "\n",
        "character_count(\"google.com\")\n",
        "\n",
        "\n",
        "\n"
      ],
      "execution_count": 6,
      "outputs": [
        {
          "output_type": "execute_result",
          "data": {
            "text/plain": [
              "{'.': 1, 'c': 1, 'e': 1, 'g': 2, 'l': 1, 'm': 1, 'o': 3}"
            ]
          },
          "metadata": {
            "tags": []
          },
          "execution_count": 6
        }
      ]
    },
    {
      "cell_type": "markdown",
      "metadata": {
        "id": "55W9AMdXCSpV"
      },
      "source": [
        "(3) Write a Python program to sum all the items in a list. (2 points)"
      ]
    },
    {
      "cell_type": "code",
      "metadata": {
        "colab": {
          "base_uri": "https://localhost:8080/"
        },
        "id": "I57NXsauCec2",
        "outputId": "02ec50c2-6efa-4dc6-e4cd-e245f980f260"
      },
      "source": [
        "# write your answer here\n",
        "\n",
        "a = [1,2,3,4,5]\n",
        "total = 0\n",
        "\n",
        "for i in range(0,len(a)):\n",
        "    total = total + a[i]\n",
        "\n",
        "print('The sum of all the items in the list:', total)"
      ],
      "execution_count": 20,
      "outputs": [
        {
          "output_type": "stream",
          "text": [
            "The sum of all the items in the list: 15\n"
          ],
          "name": "stdout"
        }
      ]
    },
    {
      "cell_type": "markdown",
      "metadata": {
        "id": "4ulBZ6yhCi9F"
      },
      "source": [
        "(4) Write a Python program to get a string from a given string where all occurrences of its first char have been changed to '\\$', except the first char itself. (2 points)\n",
        "\n",
        "Sample String : 'restart‘, \n",
        "\n",
        "Expected Result : 'resta\\$t'"
      ]
    },
    {
      "cell_type": "code",
      "metadata": {
        "colab": {
          "base_uri": "https://localhost:8080/"
        },
        "id": "Fj0XhwbBCw2o",
        "outputId": "9ad847eb-2ff8-40f7-ca22-91af84ff2d07"
      },
      "source": [
        "# write your answer here\n",
        "sample = 'restart'\n",
        "first_one = sample[0]\n",
        "\n",
        "sample = sample.replace(first_one,'$')\n",
        "sample = first_one + sample[1:]\n",
        "print(sample)\n",
        "   \n"
      ],
      "execution_count": 29,
      "outputs": [
        {
          "output_type": "stream",
          "text": [
            "resta$t\n",
            "esta$t\n"
          ],
          "name": "stdout"
        }
      ]
    },
    {
      "cell_type": "markdown",
      "metadata": {
        "id": "_bIP7s1MCzue"
      },
      "source": [
        "(5) Write a program with python which could accept two parameter a and b to calculate and output the result of S, where \n",
        "\n",
        "$\\ S=3.14*(1+a/b)^3$ (3 points)\n",
        "\n"
      ]
    },
    {
      "cell_type": "code",
      "metadata": {
        "colab": {
          "base_uri": "https://localhost:8080/"
        },
        "id": "w79QilHXD3Mg",
        "outputId": "6d783a71-98bd-40ba-8526-356984103b2f"
      },
      "source": [
        "# write your answer here\n",
        "\n",
        "a = input(\"Enter the value of a:\")\n",
        "b = input(\"Enter the value of b:\")\n",
        "\n",
        "c = int(a)/int(b)\n",
        "#print(c)\n",
        "d = 1 + c\n",
        "#print(d)\n",
        "e = pow(d,3)\n",
        "#print(e)\n",
        "s = 3.14 * e\n",
        "print (\"The calculated value of s:\",s)\n",
        "\n"
      ],
      "execution_count": 45,
      "outputs": [
        {
          "output_type": "stream",
          "text": [
            "Enter the value of a:2\n",
            "Enter the value of b:3\n",
            "The calculated value of s: 14.537037037037033\n"
          ],
          "name": "stdout"
        }
      ]
    },
    {
      "cell_type": "markdown",
      "metadata": {
        "id": "xCa2bK9aD4Q3"
      },
      "source": [
        "(6) Write a Python program to concatenate following dictionaries to create a new one. (3 points)\n",
        "\n",
        "Sample Dictionary : dic1={1:10, 2:20}, dic2={3:30, 4:40}, dic3={5:50,6:60}, \n",
        "\n",
        "Expected Result : {1: 10, 2: 20, 3: 30, 4: 40, 5: 50, 6: 60}\n"
      ]
    },
    {
      "cell_type": "code",
      "metadata": {
        "colab": {
          "base_uri": "https://localhost:8080/"
        },
        "id": "_z4aLqAbEET1",
        "outputId": "80ff337c-49e6-466f-d746-120eb108aed8"
      },
      "source": [
        "# write your answer here\n",
        "\n",
        "dict1 = {1:10,2:20}\n",
        "dict2 = {3:30,4:40}\n",
        "dict3 = {5:50,6:60}\n",
        "dict4 = {**dict1,**dict2,**dict3}\n",
        "print(dict4)\n",
        "\n"
      ],
      "execution_count": 48,
      "outputs": [
        {
          "output_type": "stream",
          "text": [
            "{1: 10, 2: 20, 3: 30, 4: 40, 5: 50, 6: 60}\n"
          ],
          "name": "stdout"
        }
      ]
    },
    {
      "cell_type": "markdown",
      "metadata": {
        "id": "0v48Vqa7FrQh"
      },
      "source": [
        "(7) Write a Python program to check whether an element exists within a tuple. (3 points)"
      ]
    },
    {
      "cell_type": "code",
      "metadata": {
        "colab": {
          "base_uri": "https://localhost:8080/"
        },
        "id": "7WEmgq-DF2P1",
        "outputId": "f171c465-3763-404a-d1a7-dee157e55373"
      },
      "source": [
        "# write your answer here\n",
        "sample = ('N','a','v','y','a','p','r','i','y','a','apple','Mango',2,3,4)\n",
        "print(\"r\" in sample)\n",
        "print(\"z\" in sample)\n",
        "print(\"apple\" in sample)\n",
        "print(\"banana\" in sample)\n",
        "print(5 in sample)\n"
      ],
      "execution_count": 53,
      "outputs": [
        {
          "output_type": "stream",
          "text": [
            "True\n",
            "False\n",
            "True\n",
            "False\n",
            "False\n"
          ],
          "name": "stdout"
        }
      ]
    },
    {
      "cell_type": "markdown",
      "metadata": {
        "id": "vD5PYLMuGga_"
      },
      "source": [
        "(8) Write a Python program to find maximum and the minimum value in a set. (3 points)"
      ]
    },
    {
      "cell_type": "code",
      "metadata": {
        "colab": {
          "base_uri": "https://localhost:8080/"
        },
        "id": "t0D5kdJUGjjw",
        "outputId": "4892f802-80b2-4654-a8ce-52e85c138b1c"
      },
      "source": [
        "# write your answer here\n",
        "sample_set = {1,2,3,4,5,6,7,8}\n",
        "print(\"The maximum value in set:\",max(sample_set))\n",
        "print(\"The minimum value in set:\",min(sample_set))"
      ],
      "execution_count": 60,
      "outputs": [
        {
          "output_type": "stream",
          "text": [
            "The maximum value in set: 8\n",
            "The minimum value in set: 1\n"
          ],
          "name": "stdout"
        }
      ]
    },
    {
      "cell_type": "markdown",
      "metadata": {
        "id": "uHkd-y5VhVWC"
      },
      "source": [
        "(9) Write a Python program to randomly divide the students in this class into five groups for term projects, each group should have at least 3 students but no more than 5 students (including 5). Here is the students list: (3 points for extra)\n",
        "\n",
        "studnet_list = ['vmb0067','pc0353','snd0097','yye0005','sg0940','bk0301','rak0120','rrk0058','spk0057','vl0135','nm0547','pn0159',\n",
        "                'msp0174','dd0420','ds0761','rs0850','ss1995','at0739','at0768','mv0299','tv0119','dy0091']"
      ]
    },
    {
      "cell_type": "code",
      "metadata": {
        "colab": {
          "base_uri": "https://localhost:8080/"
        },
        "id": "3iGbmcOBhTwy",
        "outputId": "f4cf2927-9253-4a2c-e49a-86fe528984fb"
      },
      "source": [
        "# write your answer here\n",
        "import random\n",
        "studnet_list = ['vmb0067','pc0353','snd0097','yye0005','sg0940','bk0301','rak0120','rrk0058','spk0057','vl0135','nm0547','pn0159', 'msp0174','dd0420','ds0761','rs0850','ss1995','at0739','at0768','mv0299','tv0119','dy0091']\n",
        "\n",
        "for i in range(5):\n",
        "  sampling =random.choices(studnet_list, k=5)\n",
        "  studnet_list = [i for i in studnet_list if i not in sampling]\n",
        "  print(\"Group \" +str(i+1)+\": \",sampling)"
      ],
      "execution_count": 69,
      "outputs": [
        {
          "output_type": "stream",
          "text": [
            "Group 1:  ['nm0547', 'pn0159', 'snd0097', 'mv0299', 'spk0057']\n",
            "Group 2:  ['pc0353', 'vl0135', 'yye0005', 'vl0135', 'vmb0067']\n",
            "Group 3:  ['at0768', 'at0739', 'dd0420', 'tv0119', 'sg0940']\n",
            "Group 4:  ['rs0850', 'ss1995', 'rs0850', 'dy0091', 'bk0301']\n",
            "Group 5:  ['rrk0058', 'ds0761', 'rak0120', 'rak0120', 'rak0120']\n"
          ],
          "name": "stdout"
        }
      ]
    }
  ]
}